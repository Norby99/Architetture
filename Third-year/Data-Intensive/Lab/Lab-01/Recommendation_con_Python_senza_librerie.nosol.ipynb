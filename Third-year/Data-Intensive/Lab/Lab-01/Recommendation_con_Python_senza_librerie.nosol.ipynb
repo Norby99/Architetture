{
 "cells": [
  {
   "cell_type": "markdown",
   "id": "7cf10b7e",
   "metadata": {
    "slideshow": {
     "slide_type": "slide"
    }
   },
   "source": [
    "# Laboratorio: Recommendation con Python (senza librerie)\n",
    "\n",
    "**Programmazione di Applicazioni Data Intensive**  \n",
    "Laurea in Ingegneria e Scienze Informatiche  \n",
    "DISI - Università di Bologna, Cesena\n",
    "\n",
    "Proff. Gianluca Moro, Roberto Pasolini  \n",
    "nome.cognome@unibo.it"
   ]
  },
  {
   "cell_type": "markdown",
   "id": "5a786837",
   "metadata": {
    "slideshow": {
     "slide_type": "slide"
    }
   },
   "source": [
    "## Introduzione a Jupyter/Colab\n",
    "\n",
    "- Questo è un file Jupyter (`.ipynb`)\n",
    "- Al suo interno si trovano celle di codice Python eseguibili\n",
    "- Eseguendo una cella, il risultato che si ottiene è riportato sotto la cella stessa\n",
    "  - stringhe stampate con `print` e/o risultato di un'espressione\n",
    "- Le celle di codice possono essere modificate e rieseguite liberamente"
   ]
  },
  {
   "cell_type": "markdown",
   "id": "62457970",
   "metadata": {
    "slideshow": {
     "slide_type": "slide"
    }
   },
   "source": [
    "- Questo è un esempio di cella di codice:"
   ]
  },
  {
   "cell_type": "code",
   "execution_count": 1,
   "id": "e30f68fb",
   "metadata": {},
   "outputs": [
    {
     "data": {
      "text/plain": [
       "42"
      ]
     },
     "execution_count": 1,
     "metadata": {},
     "output_type": "execute_result"
    }
   ],
   "source": [
    "20 + 20 + 2"
   ]
  },
  {
   "cell_type": "markdown",
   "id": "419a20ea",
   "metadata": {},
   "source": [
    "- Cliccare sulla cella e premere **Maiusc + Invio** per eseguirla: il risultato dell'espressione comparirà sotto\n",
    "- Si può aggiungere una nuova cella di codice sotto a quella corrente\n",
    "  - cliccando sul pulsante \"+ Code\" che appare tra le celle in Colab\n",
    "  - cliccando sul pulsante \"+\" in alto in Jupyter"
   ]
  },
  {
   "cell_type": "markdown",
   "id": "32ffd4f4",
   "metadata": {
    "slideshow": {
     "slide_type": "slide"
    }
   },
   "source": [
    "### Comandi principali da tastiera\n",
    "\n",
    "- **Ctrl + Invio**: esegui cella corrente\n",
    "- **Maiusc + Invio**: esegui cella corrente e seleziona la successiva\n",
    "- **Esc**: termina modifica (senza eseguire)\n",
    "\n",
    "I comandi sotto funzionano sulla cella selezionata solo se non se ne sta modificando il contenuto:\n",
    "- **Invio**: modifica contenuto\n",
    "- **A/B**: crea nuova cella sopra/sotto\n",
    "- **Ctrl+M** seguito da **D**: elimina cella (due volte D in Jupyter)"
   ]
  },
  {
   "cell_type": "markdown",
   "id": "1e46614a",
   "metadata": {
    "slideshow": {
     "slide_type": "slide"
    },
    "tags": []
   },
   "source": [
    "### Autocompletamento e inline help\n",
    "\n",
    "- Nelle celle di codice sono forniti suggerimenti sul completamento di un nome di variabile, funzione, ecc.\n",
    "  - si provi ad es. a creare una cella di codice (tasto B), e digitare \"so\"\n",
    "  - attivare l'autocompletamento con Ctrl+Invio su Colab o con Tab su Jupyter\n",
    "  - l'autocompletamento suggerisce ad es. la funzione `sorted`\n",
    "- Per ottenere informazioni in linea su una funzione o metodo `foo`, eseguire una cella con `foo?`\n",
    "  - in alternativa, usare la funzione `help` di Python: `help(foo)`"
   ]
  },
  {
   "cell_type": "markdown",
   "id": "d8e27da6",
   "metadata": {
    "slideshow": {
     "slide_type": "slide"
    }
   },
   "source": [
    "## Recommendation: Prevedere le propensioni di acquisto (e molto altro...)\n",
    "\n",
    "- Ogni azienda ha i dati storici di acquisto di ciascun cliente/utente\n",
    "- Vogliamo **raccomandare/suggerire ai singoli utenti quali prodotti acquistare** \n",
    "  - idea: utenti con storie di acquisti simili faranno probabilmente acquisti simili anche in futuro \n",
    "  - metodo: proponiamo ad ogni utente gli acquisti fatti da altri utenti con storico più simile al proprio\n",
    "- Vediamo come estrarre i suggerimenti sfruttando le **strutture dati standard di Python** e le operazioni che offrono\n",
    "  - vedremo poi come farlo in modo più efficiente con operazioni tra matrici...\n",
    "- Usiamo come esempio un set di dati ricavato da vendite su Amazon"
   ]
  },
  {
   "cell_type": "markdown",
   "id": "e8809b40",
   "metadata": {
    "slideshow": {
     "slide_type": "slide"
    }
   },
   "source": [
    "## Scaricamento file dati\n",
    "\n",
    "- Un archivio ZIP con i file necessari per l'esercitazione si trova all'URL https://git.io/fhxQh\n",
    "- Eseguire la seguente cella di codice per\n",
    "  - verificare se il file ZIP con i dati è già presente\n",
    "  - scaricare il file ZIP se non è già presente\n",
    "  - estrarre i file nella cartella corrente\n",
    "- Si può vedere come la libreria standard di Python fornisca già funzioni per eseguire agevolmente queste operazioni"
   ]
  },
  {
   "cell_type": "code",
   "execution_count": 4,
   "id": "0762bacb",
   "metadata": {},
   "outputs": [
    {
     "data": {
      "text/plain": [
       "'if not os.path.exists(\"purchases_data.zip\"):\\n    # scarica il file dall\\'URL indicato\\n    urlretrieve(\"https://git.io/fhxQh\", \"purchases_data.zip\")\\n    # apri il file zip ed estrai tutto il contenuto nella directory corrente\\n    with ZipFile(\"purchases_data.zip\") as f:\\n        f.extractall()'"
      ]
     },
     "execution_count": 4,
     "metadata": {},
     "output_type": "execute_result"
    }
   ],
   "source": [
    "# importo moduli e funzioni necessarie dalla libreria standard\n",
    "import os.path\n",
    "from urllib.request import urlretrieve\n",
    "from zipfile import ZipFile\n",
    "\n",
    "# se il file \"purchases_data.zip\" non esiste\n",
    "\"\"\"if not os.path.exists(\"purchases_data.zip\"):\n",
    "    # scarica il file dall'URL indicato\n",
    "    urlretrieve(\"https://git.io/fhxQh\", \"purchases_data.zip\")\n",
    "    # apri il file zip ed estrai tutto il contenuto nella directory corrente\n",
    "    with ZipFile(\"purchases_data.zip\") as f:\n",
    "        f.extractall()\"\"\""
   ]
  },
  {
   "cell_type": "markdown",
   "id": "708611b3",
   "metadata": {
    "slideshow": {
     "slide_type": "slide"
    }
   },
   "source": [
    "## Caricamento nomi utenti\n",
    "\n",
    "- Il file `users.csv` contiene un elenco degli utenti coinvolti nell'analisi\n",
    "  - sono stati selezionati gli utenti con almeno 30 acquisti nello storico\n",
    "- È un file CSV (_Comma Separated Values_) contenente una riga per ogni utente nel formato `IdUtente;Nome`\n",
    "- Possiamo usare il modulo `csv` della libreria standard di Python per leggere tali file in modo semplice\n",
    "- Importiamo il modulo per caricarlo in memoria"
   ]
  },
  {
   "cell_type": "code",
   "execution_count": 5,
   "id": "7998a789",
   "metadata": {},
   "outputs": [],
   "source": [
    "import csv"
   ]
  },
  {
   "cell_type": "markdown",
   "id": "6b82ce89",
   "metadata": {
    "slideshow": {
     "slide_type": "-"
    }
   },
   "source": [
    "- Creiamo un dizionario `users` e inseriamo in esso i dati letti dal file\n",
    "  - vogliamo inserire un elemento per ogni utente, la cui chiave sia l'ID e il cui valore sia il nome"
   ]
  },
  {
   "cell_type": "code",
   "execution_count": 6,
   "id": "3b46ddb4",
   "metadata": {},
   "outputs": [],
   "source": [
    "users = {}"
   ]
  },
  {
   "cell_type": "markdown",
   "id": "27f96d8a",
   "metadata": {
    "slideshow": {
     "slide_type": "slide"
    }
   },
   "source": [
    "- Per **aprire il file** utilizziamo la funzione `open` specificando il nome del file\n",
    "  - il file è aperto in lettura (`\"r\"`) e modalità testo"
   ]
  },
  {
   "cell_type": "code",
   "execution_count": 7,
   "id": "8af65742",
   "metadata": {},
   "outputs": [],
   "source": [
    "f = open(\"users.csv\", \"r\")"
   ]
  },
  {
   "cell_type": "markdown",
   "id": "dacdbf54",
   "metadata": {
    "slideshow": {
     "slide_type": "-"
    }
   },
   "source": [
    "- L'oggetto `f` può essere iterato per ottenere le righe del file una alla volta\n",
    "- Usiamo però `csv.reader` su `f` per scomporre ogni riga in una **tupla di valori**\n",
    "  - specifichiamo che i valori sono separati da \";\""
   ]
  },
  {
   "cell_type": "code",
   "execution_count": 8,
   "id": "fb9f1ed5",
   "metadata": {},
   "outputs": [],
   "source": [
    "reader = csv.reader(f, delimiter=\";\")"
   ]
  },
  {
   "cell_type": "markdown",
   "id": "a6f116e2",
   "metadata": {
    "slideshow": {
     "slide_type": "slide"
    }
   },
   "source": [
    "- Col costrutto `for` iteriamo le righe del file\n",
    "  - iterando su tuple di 2 elementi ciascuna, l'_unpacking_ ci permette di scomporre ciascuna tupla in due variabili\n",
    "- Per ciascuna, inseriamo nel dizionario la coppia ID-nome\n",
    "  - nel far ciò, convertiamo l'ID da stringa a numero `int`"
   ]
  },
  {
   "cell_type": "code",
   "execution_count": 9,
   "id": "62a31ecb",
   "metadata": {},
   "outputs": [],
   "source": [
    "for uid, name in reader:\n",
    "    users[int(uid)] = name"
   ]
  },
  {
   "cell_type": "markdown",
   "id": "3d58d0f4",
   "metadata": {},
   "source": [
    "- Una volta finito di leggere il file, lo chiudiamo"
   ]
  },
  {
   "cell_type": "code",
   "execution_count": 10,
   "id": "a40f093a",
   "metadata": {},
   "outputs": [],
   "source": [
    "f.close()"
   ]
  },
  {
   "cell_type": "markdown",
   "id": "c7f11a96",
   "metadata": {
    "slideshow": {
     "slide_type": "slide"
    }
   },
   "source": [
    "### Usare il costrutto with\n",
    "\n",
    "- Quando si lavora con un file, è consigliabile gestirne apertura e chiusura col costrutto `with`\n",
    "  - il file viene chiuso automaticamente all'uscita dell blocco `with`, anche in caso d'errore\n",
    "- Come esempio, ripetiamo la creazione e popolazione della struttura dati `users`"
   ]
  },
  {
   "cell_type": "code",
   "execution_count": 11,
   "id": "bd84a54e",
   "metadata": {},
   "outputs": [],
   "source": [
    "users = {}\n",
    "with open(\"users.csv\", \"r\") as f:\n",
    "    reader = csv.reader(f, delimiter=\";\")\n",
    "    for uid, name in reader:\n",
    "        users[int(uid)] = name"
   ]
  },
  {
   "cell_type": "markdown",
   "id": "114bf39f",
   "metadata": {
    "slideshow": {
     "slide_type": "slide"
    }
   },
   "source": [
    "### Usare le comprehension\n",
    "\n",
    "- Abbiamo creato una collezione (un dizionario) rielaborando gli elementi (righe) di un iterabile (file)\n",
    "- Operazioni come questa si possono esprimere in Python in modo più compatto con le _comprehension_\n",
    "  - `f(a) for a in X` indica \"da ciascun elemento `a` estratto da un iterabile `X` calcola un'espressione `f(a)`\"\n",
    "- Per generare un dizionario scriviamo `{k: v for a in X}`\n",
    "  - per ciascun elemento `a` in `X` otteniamo una coppia con chiave `k` e valore `v`\n",
    "- Un modo equivalente per ottenere il dizionario `users` sopra è quindi questo:\n",
    "  - (scriviamo la comprehension su più righe per evidenziarne le parti, possiamo farlo perché dentro parentesi)"
   ]
  },
  {
   "cell_type": "code",
   "execution_count": 12,
   "id": "8c02fbcb",
   "metadata": {},
   "outputs": [],
   "source": [
    "with open(\"users.csv\", \"r\") as f:\n",
    "    users = {\n",
    "        int(uid): name\n",
    "        for uid, name\n",
    "        in csv.reader(f, delimiter=\";\")\n",
    "    }"
   ]
  },
  {
   "cell_type": "markdown",
   "id": "e7ca10d1",
   "metadata": {
    "slideshow": {
     "slide_type": "slide"
    }
   },
   "source": [
    "- Dal dizionario possiamo reperire il nome di un qualsiasi utente dato il suo ID"
   ]
  },
  {
   "cell_type": "code",
   "execution_count": 14,
   "id": "5d25b284",
   "metadata": {},
   "outputs": [
    {
     "data": {
      "text/plain": [
       "'malachix'"
      ]
     },
     "execution_count": 14,
     "metadata": {},
     "output_type": "execute_result"
    }
   ],
   "source": [
    "users[84]"
   ]
  },
  {
   "cell_type": "markdown",
   "id": "a6ed90af",
   "metadata": {},
   "source": [
    "- Tramite la funzione `len` possiamo contare il numero totale di utenti"
   ]
  },
  {
   "cell_type": "code",
   "execution_count": 15,
   "id": "908477c2",
   "metadata": {},
   "outputs": [
    {
     "data": {
      "text/plain": [
       "178"
      ]
     },
     "execution_count": 15,
     "metadata": {},
     "output_type": "execute_result"
    }
   ],
   "source": [
    "len(users)"
   ]
  },
  {
   "cell_type": "markdown",
   "id": "51f5073e",
   "metadata": {
    "slideshow": {
     "slide_type": "slide"
    }
   },
   "source": [
    "### Esercizio 1: Caricamento nomi prodotti\n",
    "\n",
    "- Il file `items.csv` contiene i prodotti distinti acquistati dagli utenti sopra\n",
    "- Il formato del file è analogo a quello sopra, con righe `IdProdotto;Nome`\n",
    "- Ne salviamo il contenuto in un dizionario `items`, ottenuto come fatto sopra con `users`"
   ]
  },
  {
   "cell_type": "markdown",
   "id": "5211dd74",
   "metadata": {
    "slideshow": {
     "slide_type": "slide"
    }
   },
   "source": [
    "- **(1a)** Costruire un dizionario `items` in modo analogo a `users`\n",
    "  - anche quì assicurarsi di convertire gli ID prodotti in numeri `int`\n",
    "- **(1b)** Ottenere il numero totale di prodotti\n",
    "- **(1c)** Ottenere il nome del prodotto con ID 2669\n",
    "\n",
    "_(selezionare questa cella di testo e premere B per inserire una nuova cella di codice sotto in cui svolgere gli esercizi)_"
   ]
  },
  {
   "cell_type": "code",
   "execution_count": 12,
   "id": "84c67d48",
   "metadata": {},
   "outputs": [],
   "source": [
    "items = {}\n",
    "with open(\"items.csv\", \"r\") as f:\n",
    "    for id, name in csv.reader(f, delimiter=\";\"):\n",
    "        items[int(id)] = name"
   ]
  },
  {
   "cell_type": "code",
   "execution_count": 13,
   "id": "040950e2",
   "metadata": {},
   "outputs": [
    {
     "name": "stdout",
     "output_type": "stream",
     "text": [
      "3384\n",
      "Independence Day [VHS]\n"
     ]
    }
   ],
   "source": [
    "print(len(items))\n",
    "print(items[2669])"
   ]
  },
  {
   "cell_type": "markdown",
   "id": "2031b2f0",
   "metadata": {
    "slideshow": {
     "slide_type": "slide"
    }
   },
   "source": [
    "## Caricamento dati acquisti\n",
    "\n",
    "- Il file CSV `purchases-2000.csv` contiene i dati sugli acquisti effettuati dagli utenti analizzati fino alla fine del 2000\n",
    "- Per ciascun acquisto registrato, il file contiene una riga `IdUtente;IdProdotto`\n",
    "- Usiamo le funzioni viste sopra per leggere il file, creando stavolta un insieme (`set`) di tuple `(uid, iid)`\n",
    "  - i `set` sono collezioni di oggetti senza un ordine definito (seguono il concetto matematico di insieme)\n",
    "  - i `set` possono contenere solo oggetti _immutabili_, come ad es. numeri, stringhe e tuple di oggetti a loro volta immutabili"
   ]
  },
  {
   "cell_type": "code",
   "execution_count": 14,
   "id": "8ae07c3b",
   "metadata": {},
   "outputs": [],
   "source": [
    "with open(\"purchases-2000.csv\", \"r\") as f:\n",
    "    purchases = set(\n",
    "        (int(uid), int(iid))\n",
    "        for uid, iid\n",
    "        in csv.reader(f, delimiter=\";\")\n",
    "    )"
   ]
  },
  {
   "cell_type": "markdown",
   "id": "fb332926",
   "metadata": {},
   "source": [
    "### Esercizio 2: Analisi acquisti\n",
    "\n",
    "- **(2a)** Ottenere il numero di tuple caricate dal file\n",
    "- **(2b)** Ottenere il numero medio di acquisti effettuati da ogni utente"
   ]
  },
  {
   "cell_type": "code",
   "execution_count": 15,
   "id": "4f1fc869",
   "metadata": {},
   "outputs": [
    {
     "name": "stdout",
     "output_type": "stream",
     "text": [
      "9683\n",
      "54.39887640449438\n"
     ]
    }
   ],
   "source": [
    "print(len(purchases))\n",
    "print(len(purchases)/len(users))"
   ]
  },
  {
   "cell_type": "markdown",
   "id": "1170a9ce",
   "metadata": {
    "slideshow": {
     "slide_type": "slide"
    }
   },
   "source": [
    "## Raggruppare gli acquisti per utente\n",
    "\n",
    "- Per lavorare agevolmente con questi dati, estraiamo un dizionario `purchases_by_user` che associ ad ogni ID utente l'insieme di ID dei prodotti che ha acquistato\n",
    "  - usiamo un ciclo `for` per scorrere tutte le coppie utente U - prodotto P\n",
    "  - per ogni coppia, se all'utente U non è associato un insieme di acquisti, ne associamo uno vuoto\n",
    "  - quindi aggiungiamo P all'insieme acquisti di U"
   ]
  },
  {
   "cell_type": "code",
   "execution_count": 16,
   "id": "cb0b0507",
   "metadata": {},
   "outputs": [],
   "source": [
    "purchases_by_user = {}\n",
    "for uid, iid in purchases:\n",
    "    if uid not in purchases_by_user:\n",
    "        purchases_by_user[uid] = set()\n",
    "    purchases_by_user[uid].add(iid)"
   ]
  },
  {
   "cell_type": "markdown",
   "id": "6b418920",
   "metadata": {
    "slideshow": {
     "slide_type": "-"
    }
   },
   "source": [
    "- Possiamo abbreviare il codice sfruttando il metodo `setdefault` dei dizionari\n",
    "  - `d.setdefault(k, v)` restituisce `d[k]` impostandolo prima a `v` se non esistente"
   ]
  },
  {
   "cell_type": "code",
   "execution_count": 17,
   "id": "8a94d75a",
   "metadata": {},
   "outputs": [],
   "source": [
    "purchases_by_user = {}\n",
    "for uid, iid in purchases:\n",
    "    purchases_by_user.setdefault(uid, set()).add(iid)"
   ]
  },
  {
   "cell_type": "markdown",
   "id": "2cae0f44",
   "metadata": {
    "slideshow": {
     "slide_type": "slide"
    }
   },
   "source": [
    "- Possiamo verificare che ogni utente abbia effettivamente almeno 30 acquisti\n",
    "  - col metodo `values` iteriamo gli insiemi di oggetti acquistati (i soli valori, non le chiavi) nel dizionario `purchases_by_user`\n",
    "  - con `len` estraiamo il numero di elementi di ciascuno\n",
    "  - con `min` estraiamo il più piccolo di essi e verifichiamo che sia 30"
   ]
  },
  {
   "cell_type": "code",
   "execution_count": 18,
   "id": "f111f6ee",
   "metadata": {},
   "outputs": [
    {
     "data": {
      "text/plain": [
       "30"
      ]
     },
     "execution_count": 18,
     "metadata": {},
     "output_type": "execute_result"
    }
   ],
   "source": [
    "min(len(itemset) for itemset in purchases_by_user.values())"
   ]
  },
  {
   "cell_type": "markdown",
   "id": "20bcbc66",
   "metadata": {},
   "source": [
    "- In alternativa alla comprehension possiamo usare la funzione `map(f, i)`, che applica una funzione `f` (quì `len`) a tutti gli elementi di un iterabile `i`"
   ]
  },
  {
   "cell_type": "code",
   "execution_count": 19,
   "id": "5808b877",
   "metadata": {},
   "outputs": [
    {
     "data": {
      "text/plain": [
       "30"
      ]
     },
     "execution_count": 19,
     "metadata": {},
     "output_type": "execute_result"
    }
   ],
   "source": [
    "min(map(len, purchases_by_user.values()))"
   ]
  },
  {
   "cell_type": "markdown",
   "id": "5c185de9",
   "metadata": {
    "slideshow": {
     "slide_type": "slide"
    },
    "tags": []
   },
   "source": [
    "### Esercizio 3: Raggruppare gli acquisti per prodotto\n",
    "\n",
    "- **(3a)** Costruire in modo simile a `purchases_by_user` un dizionario `purchases_by_item` che associ ad ogni ID di un _prodotto_ l'insieme di ID degli _utenti_ che l'hanno acquistato\n",
    "- **(3b)** Ottenere il numero di acquisti del prodotto più venduto e di quello meno venduto"
   ]
  },
  {
   "cell_type": "code",
   "execution_count": 20,
   "id": "27f42194",
   "metadata": {},
   "outputs": [],
   "source": [
    "purchases_by_items = {}\n",
    "for uid, iid in purchases:\n",
    "    purchases_by_items.setdefault(iid, set()).add(uid)"
   ]
  },
  {
   "cell_type": "code",
   "execution_count": 23,
   "id": "29734c0a",
   "metadata": {},
   "outputs": [
    {
     "name": "stdout",
     "output_type": "stream",
     "text": [
      "50\n",
      "1\n"
     ]
    }
   ],
   "source": [
    "print(max(len(userset) for userset in purchases_by_items.values()))\n",
    "print(min(len(userset) for userset in purchases_by_items.values()))"
   ]
  },
  {
   "cell_type": "markdown",
   "id": "a6766dd3",
   "metadata": {
    "slideshow": {
     "slide_type": "slide"
    }
   },
   "source": [
    "## Similarità tra utenti\n",
    "\n",
    "- Vogliamo suggerire prodotti agli utenti in base a **cos'hanno acquistato utenti simili**\n",
    "- Come determinare quanto due utenti siano \"simili\"?\n",
    "- Possiamo contare **quanti sono i prodotti che entrambi hanno acquistato**\n",
    "- Per ottenere i prodotti acquistati da entrambi due utenti, possiamo calcolare **l'intersezione** degli insiemi dei prodotti acquistati\n",
    "- Sugli insiemi si può usare l'operatore `&` (AND) per calcolare l'intersezione\n",
    "- Ad esempio, gli ID dei prodotti acquistati sia dall'utente con ID 84 che da quello con ID 7661 sono:"
   ]
  },
  {
   "cell_type": "code",
   "execution_count": 24,
   "id": "891651f0",
   "metadata": {},
   "outputs": [
    {
     "data": {
      "text/plain": [
       "{5162, 43911, 43921, 100267}"
      ]
     },
     "execution_count": 24,
     "metadata": {},
     "output_type": "execute_result"
    }
   ],
   "source": [
    "purchases_by_user[84] & purchases_by_user[7661]"
   ]
  },
  {
   "cell_type": "markdown",
   "id": "e7cd10f2",
   "metadata": {
    "slideshow": {
     "slide_type": "slide"
    }
   },
   "source": [
    "### Esercizio 4: Funzione per calcolo similarità\n",
    "\n",
    "- Creare una funzione `user_similarity` che, dati due ID utente `uid1` e `uid2`, restituisca il numero di prodotti nell'intersezione dei loro acquisti\n",
    "  - completare la definizione abbozzata sotto"
   ]
  },
  {
   "cell_type": "code",
   "execution_count": 28,
   "id": "11032d70",
   "metadata": {},
   "outputs": [],
   "source": [
    "def user_similarity(uid1, uid2):\n",
    "    \"\"\"Count products purchased by both given users.\"\"\"\n",
    "    return len(purchases_by_user[uid1] & purchases_by_user[uid2])"
   ]
  },
  {
   "cell_type": "markdown",
   "id": "27461a0e",
   "metadata": {},
   "source": [
    "- Eseguire la cella sotto per verificare la funzione sulla base dell'esempio sopra\n",
    "  - se la condizione data è soddisfatta non succede nulla, altrimenti `assert` genera un errore"
   ]
  },
  {
   "cell_type": "code",
   "execution_count": 29,
   "id": "16123177",
   "metadata": {},
   "outputs": [],
   "source": [
    "assert user_similarity(84, 7661) == 4"
   ]
  },
  {
   "cell_type": "markdown",
   "id": "28fc1466",
   "metadata": {
    "slideshow": {
     "slide_type": "slide"
    }
   },
   "source": [
    "## Calcolo di tutte le similarità\n",
    "\n",
    "- Usiamo questa funzione per creare un dizionario `user_similiarities` che, ad ogni tupla con due ID utente, associa la loro similarità\n",
    "  - scorriamo tutti gli ID utente attraverso due cicli (`for`) innestati, eliminando le coppie di ID uguali\n",
    "  - _(per semplicità, lasciamo che la similarità di ogni coppia sia calcolata due volte)_"
   ]
  },
  {
   "cell_type": "code",
   "execution_count": 30,
   "id": "a150de19",
   "metadata": {},
   "outputs": [],
   "source": [
    "user_similarities = {\n",
    "    (i, j): user_similarity(i, j)\n",
    "    for i in users.keys()\n",
    "    for j in users.keys()\n",
    "    if i != j\n",
    "}"
   ]
  },
  {
   "cell_type": "markdown",
   "id": "bcf2431c",
   "metadata": {},
   "source": [
    "- Ad esempio, riprendendo l'esempio sopra, la similarità tra gli utenti 84 e 7661 deve essere 4"
   ]
  },
  {
   "cell_type": "code",
   "execution_count": 33,
   "id": "74540a95",
   "metadata": {},
   "outputs": [
    {
     "data": {
      "text/plain": [
       "4"
      ]
     },
     "execution_count": 33,
     "metadata": {},
     "output_type": "execute_result"
    }
   ],
   "source": [
    "user_similarities[(84, 7661)]"
   ]
  },
  {
   "cell_type": "markdown",
   "id": "321badcf",
   "metadata": {
    "slideshow": {
     "slide_type": "slide"
    }
   },
   "source": [
    "## Stimare il potenziale interesse nei prodotti\n",
    "\n",
    "- Vogliamo stimare **quanto ciascun utente sia potenzialmente interessato** in ciascun prodotto non ancora acquistato\n",
    "- Possiamo stimarlo in base a quanto il prodotto **sia stato acquistato da utenti simili**\n",
    "- Associamo per ogni utente U e prodotto P un _punteggio d'interesse_ pari alla **somma delle similarità degli altri utenti** che hanno acquistato P"
   ]
  },
  {
   "cell_type": "markdown",
   "id": "21da943e",
   "metadata": {
    "slideshow": {
     "slide_type": "slide"
    }
   },
   "source": [
    "### Esercizio 5: Funzione per la stima dell'interesse\n",
    "\n",
    "- Creare una funzione `interest` che calcoli tale punteggio per un utente `uid` e un prodotto `iid` dati\n",
    "  - assicurarsi di iterare gli utenti che hanno acquistato `iid` escludendo `uid`\n",
    "  - usare la funzione `sum(...)` per sommare i valori ricavati da una comprehension"
   ]
  },
  {
   "cell_type": "code",
   "execution_count": 34,
   "id": "2e7c7c40",
   "metadata": {},
   "outputs": [],
   "source": [
    "def interest(uid, iid):\n",
    "    \"\"\"Estimate the interest of given user for given product.\"\"\"\n",
    "    return sum(\n",
    "        user_similarities[(uid, ouid)]\n",
    "        for ouid in purchases_by_items[iid] \n",
    "        if uid != ouid\n",
    "    )"
   ]
  },
  {
   "cell_type": "markdown",
   "id": "ae3d915a",
   "metadata": {
    "slideshow": {
     "slide_type": "slide"
    }
   },
   "source": [
    "### Calcolo di tutti i punteggi d'interesse\n",
    "\n",
    "- Raccogliamo tutti i punteggi in un dizionario che associa ad ogni utente U un dizionario di punteggi d'interesse\n",
    "  - ciascuno associa a sua volta a ciascun prodotto il punteggio d'interesse\n",
    "  - sono però esclusi i prodotti già acquistati da U"
   ]
  },
  {
   "cell_type": "code",
   "execution_count": 35,
   "id": "87aa709d",
   "metadata": {},
   "outputs": [],
   "source": [
    "interests_by_user = {\n",
    "    uid: {\n",
    "        iid: interest(uid, iid)\n",
    "        for iid in items.keys()\n",
    "        if iid not in purchases_by_user[uid]\n",
    "    } for uid in users.keys()\n",
    "}"
   ]
  },
  {
   "cell_type": "markdown",
   "id": "df505de2",
   "metadata": {},
   "source": [
    "- Ad esempio il punteggio d'interesse dell'utente 84 verso l'oggetto 2669 è"
   ]
  },
  {
   "cell_type": "code",
   "execution_count": 36,
   "id": "6ad3dff8",
   "metadata": {},
   "outputs": [
    {
     "data": {
      "text/plain": [
       "57"
      ]
     },
     "execution_count": 36,
     "metadata": {},
     "output_type": "execute_result"
    }
   ],
   "source": [
    "interests_by_user[84][2669]"
   ]
  },
  {
   "cell_type": "markdown",
   "id": "5a27dab9",
   "metadata": {},
   "source": [
    "### Esercizio 6: Estrazione punteggio massimo\n",
    "\n",
    "- Estrarre il valore del punteggio d'interesse massimo tra quelli calcolati"
   ]
  },
  {
   "cell_type": "code",
   "execution_count": 41,
   "id": "3a8ce199",
   "metadata": {},
   "outputs": [
    {
     "name": "stdout",
     "output_type": "stream",
     "text": [
      "104770\n"
     ]
    }
   ],
   "source": [
    "print(max([int_value for user_interests in interests_by_user.values() for int_value in user_interests]))"
   ]
  },
  {
   "cell_type": "markdown",
   "id": "66f61f2c",
   "metadata": {
    "slideshow": {
     "slide_type": "slide"
    }
   },
   "source": [
    "## Ottenere _N_ suggerimenti di acquisto per ogni utente\n",
    "\n",
    "- Da migliaia di prodotti nel catalogo, vogliamo suggerirne **un numero limitato ad ogni utente** massimizzando la probabilità di acquisto\n",
    "- Fissiamo un numero _N_ di prodotti da suggerire..."
   ]
  },
  {
   "cell_type": "code",
   "execution_count": 42,
   "id": "c3a088e6",
   "metadata": {},
   "outputs": [],
   "source": [
    "N = 20"
   ]
  },
  {
   "cell_type": "markdown",
   "id": "636935ca",
   "metadata": {},
   "source": [
    "- ...vogliamo selezionare per ogni utente gli **_N_ prodotti con \"potenziale interesse\" maggiore**"
   ]
  },
  {
   "cell_type": "markdown",
   "id": "e393a8fd",
   "metadata": {
    "slideshow": {
     "slide_type": "slide"
    }
   },
   "source": [
    "- Estraiamo ad esempio _N_ prodotti suggeriti per l'utente con ID 84\n",
    "- Da `interests_by_user` estraiamo delle tuple `(IdOggetto, Punteggio)`\n",
    "  - usiamo il metodo `items` per estrarre tutte le coppie chiave-valore di un dizionario in forma di tuple"
   ]
  },
  {
   "cell_type": "code",
   "execution_count": 43,
   "id": "b8e33f53",
   "metadata": {},
   "outputs": [],
   "source": [
    "interests_of_user_84 = interests_by_user[84].items()"
   ]
  },
  {
   "cell_type": "markdown",
   "id": "23801453",
   "metadata": {},
   "source": [
    "- Usiamo la funzione `sorted` per ottenere una lista con gli elementi in ordine\n",
    "  - col parametro `key` specifichiamo un criterio d'ordinamento\n",
    "    - usiamo una funzione lambda che estragga da ogni tupla `x` il secondo elemento `x[1]`, cioè il punteggio\n",
    "  - normalmente l'ordinamento è in ordine crescente, impostiamolo in ordine decrescente con `reverse=True`"
   ]
  },
  {
   "cell_type": "code",
   "execution_count": 44,
   "id": "bc710c04",
   "metadata": {},
   "outputs": [],
   "source": [
    "sorted_interests_of_user_84 = \\\n",
    "    sorted(interests_of_user_84,\n",
    "           key=lambda x: x[1],\n",
    "           reverse=True)"
   ]
  },
  {
   "cell_type": "markdown",
   "id": "9007046c",
   "metadata": {
    "slideshow": {
     "slide_type": "slide"
    }
   },
   "source": [
    "- Abbiamo così una lista di tuple `(IdOggetto, Punteggio)` ordinate da quelle con punteggio maggiore\n",
    "  - vediamo ad esempio le prime 5"
   ]
  },
  {
   "cell_type": "code",
   "execution_count": 45,
   "id": "33df9708",
   "metadata": {},
   "outputs": [
    {
     "data": {
      "text/plain": [
       "[(57372, 127), (59817, 97), (44030, 96), (57190, 86), (7989, 73)]"
      ]
     },
     "execution_count": 45,
     "metadata": {},
     "output_type": "execute_result"
    }
   ],
   "source": [
    "sorted_interests_of_user_84[:5]"
   ]
  },
  {
   "cell_type": "markdown",
   "id": "68d6b3c2",
   "metadata": {},
   "source": [
    "### Esercizio 7: Ottenere i suggerimenti per un utente\n",
    "\n",
    "- **(7a)** Estrarre da quest'ultima lista un insieme degli ID degli _N_ prodotti da suggerire all'utente\n",
    "  - estrarre solo gli ID dei prodotti, scartando i punteggi\n",
    "- **(7b)** Definire una funzione `suggest` che, dato un ID utente `uid` arbitrario, restituisca un insieme simile di ID di _N_ prodotti seguendo la procedura descritta"
   ]
  },
  {
   "cell_type": "code",
   "execution_count": 51,
   "id": "e0b612d4",
   "metadata": {},
   "outputs": [],
   "source": [
    "suggestions_for_user_84 = set(iid for iid, score in sorted_interests_of_user_84[:N])"
   ]
  },
  {
   "cell_type": "code",
   "execution_count": 54,
   "id": "5ec7c68c",
   "metadata": {},
   "outputs": [],
   "source": [
    "def suggest(uid):\n",
    "    \"\"\"Recommend N products to given user.\"\"\"\n",
    "    interests = interests_by_user[uid].items()\n",
    "    sorted_interest = sorted(interests, key=lambda x : x[1], reverse=True)\n",
    "    return set(iid for iid, score in sorted_interest[:N])"
   ]
  },
  {
   "cell_type": "markdown",
   "id": "569a3356",
   "metadata": {
    "slideshow": {
     "slide_type": "slide"
    }
   },
   "source": [
    "- Applichiamo la funzione così definita a tutti gli utenti"
   ]
  },
  {
   "cell_type": "code",
   "execution_count": 55,
   "id": "69db427e",
   "metadata": {},
   "outputs": [],
   "source": [
    "suggestions_by_user = {uid: suggest(uid) for uid in users.keys()}"
   ]
  },
  {
   "cell_type": "markdown",
   "id": "8257d90c",
   "metadata": {},
   "source": [
    "- Abbiamo così per ciascun utente un set di _N_ prodotti non precedentemente acquistati da suggerire"
   ]
  },
  {
   "cell_type": "code",
   "execution_count": 56,
   "id": "776007d4",
   "metadata": {},
   "outputs": [
    {
     "name": "stdout",
     "output_type": "stream",
     "text": [
      "{44037, 60041, 96025, 43290, 57372, 5288, 59817, 7985, 7989, 43586, 60230, 96454, 96456, 95843, 57190, 2669, 101103, 56561, 95480, 44030}\n"
     ]
    }
   ],
   "source": [
    "print(suggestions_by_user[84])"
   ]
  },
  {
   "cell_type": "markdown",
   "id": "d429830e",
   "metadata": {
    "slideshow": {
     "slide_type": "slide"
    }
   },
   "source": [
    "- Ad esempio, per l'utente 84, stampiamo i titoli dei film che ha acquistato...\n",
    "  - sostituire `\"; \"` con `\"\\n\"` (interruzione di riga) per visualizzare i titoli uno sotto l'altro"
   ]
  },
  {
   "cell_type": "code",
   "execution_count": 57,
   "id": "36a9aaf3",
   "metadata": {},
   "outputs": [
    {
     "name": "stdout",
     "output_type": "stream",
     "text": [
      "Eyes Wide Shut [VHS]; The Lion King [VHS]; The Matrix; Batman & Robin [VHS]; Blade [VHS]; First Knight [VHS]; Omen 3: The Final Conflict [VHS]; Summer of Sam [VHS]; The World Is Not Enough [VHS]; The Chinese Connection [VHS]; Enter the Dragon [VHS]; Star Wars - Episode I, The Phantom Menace [VHS]; Fists of Fury [VHS]; Lost World: Jurassic Park [VHS]; Alien [VHS]; Batman Returns (1992); Beloved; Reservoir Dogs [VHS]; Total Recall; Touch of Evil [VHS]; Batman Forever; Inspector Gadget; Enemy of the State; Blade Runner (The Director's Cut); Tomorrow Never Dies (Limited Edition Gift Pack) [VHS]; Aliens [VHS]; A Bug's Life; Return of the Dragon [VHS]; Batman (1989); The Exorcist; Lost in Space [VHS]; GoldenEye (Special Edition); Excalibur [VHS]; Alien Resurrection [VHS]; Alien 3 [VHS]; Godzilla [VHS]; Game of Death [VHS]; Jurassic Park (Widescreen Edition) [VHS]\n"
     ]
    }
   ],
   "source": [
    "print(\"; \".join(items[iid] for iid in purchases_by_user[84]))"
   ]
  },
  {
   "cell_type": "markdown",
   "id": "e5fb8253",
   "metadata": {
    "slideshow": {
     "slide_type": "slide"
    }
   },
   "source": [
    "- ...e i titoli dei film suggeriti"
   ]
  },
  {
   "cell_type": "code",
   "execution_count": 58,
   "id": "4efb9346",
   "metadata": {},
   "outputs": [
    {
     "name": "stdout",
     "output_type": "stream",
     "text": [
      "Double Jeopardy; Deep Blue Sea; American Pie - Rated Edition (Special Edition) [VHS]; The Green Mile [VHS]; The Sixth Sense [VHS]; Being John Malkovich; Saving Private Ryan [VHS]; The Insider; Fight Club; Galaxy Quest [VHS]; Three Kings; The Talented Mr. Ripley; Titanic [VHS]; Jaws [VHS]; Curse of the Blair Witch [VHS]; Independence Day [VHS]; Abyss [VHS]; Armageddon [VHS]; Dogma [VHS]; Sleepy Hollow\n"
     ]
    }
   ],
   "source": [
    "print(\"; \".join(items[iid] for iid in suggestions_by_user[84]))"
   ]
  },
  {
   "cell_type": "markdown",
   "id": "d3de927e",
   "metadata": {
    "slideshow": {
     "slide_type": "slide"
    }
   },
   "source": [
    "## Accuratezza dei suggerimenti di acquisto\n",
    "\n",
    "- Come valutare se i suggerimenti ottenuti in questo modo siano azzeccati?\n",
    "- Una possibilità consiste nel verificare **se gli oggetti suggeriti siano stati effettivamente acquistati** in un successivo momento\n",
    "- Nel file `purchases-2014.csv` è fornita una seconda lista di acquisti aggiornata, che include anche quelli successivi al 2000\n",
    "  - utenti e prodotti sono limitati a quelli già caricati in `users` e `items`\n",
    "- Possiamo quindi confrontare i prodotti suggeriti con questa nuova matrice\n",
    "- Carichiamo l'insieme di tuple da questo file come abbiamo fatto per il precedente"
   ]
  },
  {
   "cell_type": "code",
   "execution_count": 59,
   "id": "b0e2d70d",
   "metadata": {},
   "outputs": [],
   "source": [
    "with open(\"purchases-2014.csv\", \"r\") as f:\n",
    "    purchases_updated = set(\n",
    "        (int(uid), int(iid))\n",
    "        for uid, iid\n",
    "        in csv.reader(f, delimiter=\";\")\n",
    "    )"
   ]
  },
  {
   "cell_type": "markdown",
   "id": "11b7049a",
   "metadata": {
    "slideshow": {
     "slide_type": "slide"
    }
   },
   "source": [
    "### Selezionare solo i nuovi acquisti\n",
    "\n",
    "- Il nuovo file riporta **tutti** gli acquisti, compresi quelli già indicati nel file precedente\n",
    "- Vogliamo un insieme dei soli acquisti successivi all'analisi svolta sopra\n",
    "- Possiamo ottenerlo calcolando la differenza tra gli insiemi di acquisti, tramite l'operatore `-`"
   ]
  },
  {
   "cell_type": "code",
   "execution_count": 61,
   "id": "632dd9b8",
   "metadata": {},
   "outputs": [
    {
     "name": "stdout",
     "output_type": "stream",
     "text": [
      "{(165618, 44013), (1185145, 8005), (1102867, 43783), (1102867, 45769), (58135, 44301), (652570, 43760), (1201103, 2398), (63776, 43437), (125462, 43146), (757804, 96547), (390353, 48102), (508200, 49801), (390353, 7980), (1200961, 44278), (744355, 43677), (110576, 7803), (624547, 8056), (140844, 43768), (1201103, 96534), (239871, 52574), (970622, 56372), (743388, 96670), (1102867, 102119), (1102867, 95703), (646087, 60240), (771431, 47699), (81819, 95351), (939245, 102135), (1102867, 43917), (639998, 43571), (165618, 47759), (58135, 96571), (652570, 53922), (516868, 100511), (580709, 8034), (1092996, 2818), (1200961, 47795), (58135, 43738), (956669, 45797), (939245, 104592), (165618, 96296), (1201295, 958), (652570, 53935), (721138, 101103), (165618, 98403), (27153, 50780), (1200961, 52238), (771431, 96707), (1185145, 43147), (165618, 104001), (1201295, 103496), (274676, 47657), (652570, 57210), (939245, 60282), (770638, 43070), (93938, 296), (390353, 5444), (165618, 43813), (140844, 58494), (586812, 43552), (939245, 57249), (1102867, 48723), (390353, 96197), (757804, 50038), (224067, 43014), (757804, 47823), (140844, 100723), (502896, 101159), (1102867, 101569), (58135, 3282), (390353, 96318), (757804, 54360), (845125, 43167), (1102867, 47797), (1200961, 100078), (693120, 47447), (279452, 101914), (1092996, 43437), (757804, 52266), (365712, 60237), (956669, 43140), (218221, 56439), (1201295, 5535), (956669, 54925), (339981, 43508), (58135, 49833), (1117512, 53229), (956669, 43261), (58135, 57188), (58135, 51001), (652570, 96540), (165618, 913), (1102867, 48978), (512280, 43886), (913001, 96362), (261279, 42911), (757804, 3755), (609818, 60257), (231204, 95906), (1102867, 96455), (970622, 5567), (261279, 48280), (771431, 44250), (757804, 4923), (1117512, 48102), (390353, 4773), (218221, 51433), (218221, 7110), (1091373, 99845), (693120, 2669), (652570, 96782), (815745, 8010), (774984, 5114), (1200961, 44346), (720060, 43835), (58135, 96626), (1102867, 60187), (165618, 3262), (58135, 48102), (646087, 60187), (652570, 53748), (652570, 49547), (1092996, 3691), (939245, 52619), (390353, 935), (1200961, 96145), (58135, 8101), (218221, 42936), (1092996, 43934), (652570, 103561), (1092996, 95612), (652570, 50607), (771431, 42748), (1201295, 2999), (58135, 96639), (218221, 11795), (760122, 95940), (218221, 43057), (1102867, 43167), (365071, 55345), (429177, 60187), (1200961, 43662), (743388, 44026), (1102867, 43288), (395248, 8080), (771431, 96654), (365071, 100728), (939245, 52874), (757804, 102589), (873863, 100829), (757804, 43448), (165618, 43760), (218221, 43420), (165618, 99868), (652570, 47708), (274676, 56585), (1102867, 4576), (885334, 52731), (1201295, 49563), (1102867, 3529), (956669, 101168), (620746, 47897), (1092996, 96217), (771431, 95849), (165618, 101157), (757804, 43461), (426926, 96674), (721138, 2379), (958462, 43763), (639998, 96043), (639998, 53935), (939245, 103868), (1073342, 43206), (939245, 95466), (665876, 59427), (1102867, 103973), (771431, 49553), (261279, 5288), (390353, 43782), (390353, 45768), (1201295, 8047), (774984, 101157), (165618, 95922), (771431, 62735), (58135, 47686), (1201295, 96356), (956669, 47759), (1102867, 101061), (165618, 44136), (58135, 95392), (733434, 43023), (110576, 8034), (125883, 53916), (483531, 45932), (757804, 96670), (1234283, 56553), (845125, 97720), (218221, 43917), (652570, 101159), (652570, 56018), (913001, 96780), (58135, 95405), (771431, 57729), (757804, 60281), (1200961, 96200), (1185145, 60277), (390353, 44037), (261279, 3328), (956669, 8000), (968238, 96025), (58135, 51203), (218221, 44159), (956669, 102015), (743388, 684), (1102867, 44040), (939245, 60150), (939245, 95842), (125462, 96357), (165618, 7989), (58135, 52600), (1102867, 100148), (646087, 56054), (1102867, 3100), (62023, 43427), (939245, 96781), (130054, 53796), (281883, 44042), (130054, 47380), (508200, 43642), (165618, 100728), (693120, 44040), (508200, 43763), (483531, 60187), (502896, 5965), (652570, 44259), (1102867, 47665), (956669, 96780), (58135, 95889), (58135, 95660), (1200961, 48978), (1200961, 2669), (533414, 9503), (281883, 9760), (939245, 95976), (464319, 47414), (956669, 2068), (757804, 52255), (956669, 49545), (390353, 5567), (913001, 45370), (1073342, 60281), (652570, 47884), (757804, 48764), (721138, 56206), (390353, 96320), (1201295, 100249), (939245, 49909), (1102867, 102968), (956669, 913), (279452, 96547), (757804, 95423), (1073342, 5462), (360171, 3654), (624547, 5535), (390353, 58763), (1102867, 96444), (638025, 8000), (439900, 53796), (165618, 53748), (1091373, 47927), (58135, 47620), (652570, 55710), (760122, 612), (239871, 103128), (218221, 96684), (1092996, 57331), (1200961, 45153), (757804, 103020), (261279, 42913), (1102867, 50377), (652570, 6260), (261279, 44081), (165618, 45359), (1102867, 102055), (274676, 56787), (1102867, 42914), (652570, 51522), (1102867, 2792), (939245, 8056), (770638, 9503), (365071, 101401), (339981, 96598), (733434, 100246), (165618, 100312), (27153, 96783), (426926, 96058), (365071, 100704), (845125, 8203), (652570, 43133), (956669, 43518), (757804, 58242), (956669, 55532), (261279, 2336), (939245, 9466), (1003282, 60258), (218221, 43167), (218221, 45153), (365071, 100596), (58135, 43795), (503195, 51861), (1092996, 53735), (533414, 50377), (1102867, 43169), (365071, 43791), (638025, 4417), (639998, 56823), (483531, 9503), (1102867, 96015), (1102867, 43290), (365071, 96408), (724868, 44045), (1007279, 50038), (743388, 43210), (757804, 7637), (956669, 95559), (58135, 101313), (652570, 96342), (274676, 4788), (873863, 95462), (390353, 2239), (512280, 96184), (970622, 56926), (165618, 56823), (939245, 1319), (218221, 9945), (58135, 44279), (827287, 60187), (757804, 524), (1117512, 7782), (652570, 104047), (390353, 96375), (261279, 95559), (365071, 51509), (390353, 43421), (81819, 50535), (1102867, 56485), (1200961, 43798), (652570, 100556), (1073342, 5288), (218221, 57772), (939245, 2379), (1200961, 9503), (536662, 95480), (757804, 8000), (218221, 96389), (906953, 59884), (721138, 5535), (1092996, 1278), (757804, 43813), (1102867, 47867), (165618, 100004), (956669, 52888), (58135, 47796), (218221, 101061), (1201295, 96237), (261279, 42968), (939245, 7990), (757804, 43705), (956669, 43210), (845125, 95494), (261279, 44136), (638025, 57760), (693120, 47867), (646087, 100124), (733434, 60287), (58135, 95394), (1102867, 8445), (652570, 56946), (1102867, 43908), (624547, 8060), (744355, 55695), (365712, 48764), (1200961, 43235), (771431, 96335), (58135, 43608), (956669, 7989), (733434, 100072), (218221, 43919), (533414, 51008), (1092996, 4795), (913001, 59922), (956669, 57452), (939245, 53494), (125462, 43392), (125883, 9945), (1102867, 60244), (58135, 56561), (837149, 9466), (1102867, 99908), (58135, 47930), (1102867, 42982), (956669, 100728), (733434, 1977), (721138, 95604), (939245, 50461), (1102867, 54767), (646087, 54996), (1073342, 8000), (1102867, 43921), (1073342, 43463), (939245, 95723), (218221, 100148), (815745, 8080), (1200961, 43477), (757804, 57021), (165618, 47884), (956669, 49063), (1201295, 42949), (639998, 55710), (58135, 43742), (771431, 10267), (279452, 43448), (757804, 96217), (390353, 96067), (1102867, 44163), (130054, 94859), (125883, 96510), (1102867, 96070), (693120, 43813), (757804, 57263), (720060, 42979), (365071, 8046), (464319, 56973), (390353, 96188), (1102867, 44284), (165618, 47897), (865352, 102339), (1073342, 60041), (845125, 101360), (165618, 104005), (399035, 95142), (261279, 43586), (58135, 95891), (956669, 43828), (652570, 95121), (639998, 60274), (365071, 96705), (218221, 95384), (956669, 43949), (956669, 4056), (27153, 5535), (224067, 60280), (365071, 59966), (845125, 47480), (261279, 96782), (1073342, 5114), (721138, 49563), (279452, 104241), (1200961, 49451), (1102867, 95386), (652570, 95363), (939245, 43495), (188455, 50029), (639998, 95979), (652570, 43806), (192779, 4499), (126922, 44082), (757804, 96593), (1102867, 4875), (390353, 8026), (390353, 43489), (956669, 45359), (165618, 43951), (442793, 104484), (639998, 95871), (390353, 53288), (652570, 8006), (82397, 56178), (956669, 44312), (639998, 63791), (1073342, 57263), (652570, 62128), (512280, 6091), (281883, 8031), (261279, 103561), (652570, 100974), (939245, 99845), (693120, 96217), (873863, 42939), (27153, 8005), (815745, 43464), (652570, 104128), (390353, 6053), (956669, 1278), (165618, 2085), (58135, 55327), (390353, 57960), (665876, 43282), (365071, 57188), (1200961, 96015), (58135, 96388), (1102867, 53762), (1102867, 42916), (757804, 44002), (956669, 45493), (1117512, 750), (58135, 49032), (939245, 60194), (757804, 5048), (431136, 104042), (239871, 101507), (261279, 1278), (757804, 53922), (652570, 44182), (721138, 96598), (1007279, 103678), (760122, 43206), (365071, 56383), (1201295, 56883), (58135, 750), (757804, 60230), (757804, 5290), (58135, 44026), (261279, 104755), (1201103, 44002), (639998, 4797), (508200, 43699), (125462, 96535), (1102867, 2110), (58135, 101073), (1092996, 44059), (1102867, 1063), (693120, 49466), (1092996, 60274), (1007279, 56335), (483531, 60244), (1102867, 50755), (652570, 44316), (165618, 1643), (624547, 62384), (62023, 8034), (580709, 9503), (1201295, 53984), (1092996, 59348), (652570, 7698), (1200961, 99895), (939245, 48677), (58135, 96067), (261279, 104300), (274676, 52267), (1092996, 95979), (939245, 3536), (464319, 96116), (652570, 96236), (165618, 49362), (771431, 104592), (639998, 57188), (970622, 10740), (939245, 102691), (464319, 44330), (218221, 43774), (1073342, 60230), (1102867, 43426), (1200961, 100137), (1102867, 95333), (261279, 60219), (58135, 45341), (652570, 96707), (652570, 56585), (261279, 52527), (165618, 47389), (1102867, 104085), (968238, 10498), (165618, 3066), (956669, 44), (58135, 43247), (845125, 43468), (939245, 47993), (1201103, 100728), (939245, 96638), (261279, 49386), (390353, 43786), (239871, 44165), (1102867, 96514), (757804, 53735), (721138, 96411), (956669, 286), (58135, 8026), (1073342, 57331), (956669, 49749), (733434, 53873), (1007279, 49490), (652570, 44116), (390353, 103169), (956669, 96408), (956669, 47884), (218221, 54767), (1007279, 49840), (1073342, 96298), (771431, 53411), (58135, 100886), (1073342, 95480), (845125, 98892), (58135, 6053), (58135, 8039), (639998, 2745), (58135, 99839), (956669, 43575), (390353, 45317), (1117512, 96001), (652570, 43311), (721138, 7310), (1073342, 96540), (58135, 926), (125462, 56468), (652570, 44250), (939245, 45336), (1102867, 102367), (279452, 54296), (771431, 10498), (1025221, 43793), (58135, 60188), (187485, 43677), (512280, 95999), (140844, 2379), (1073342, 60151), (639998, 104128), (279452, 96296), (693120, 60151), (693120, 95843), (652570, 95352), (274676, 7999), (956669, 60274), (165618, 56880), (652570, 8921), (771431, 42941), (1201295, 96039), (873863, 8041), (1092996, 4355), (125883, 60244), (1117512, 96256), (639998, 43014), (1200961, 95870), (365712, 95693), (913001, 43388), (279452, 101089), (83632, 95398), (1200961, 43855), (140844, 49990), (693120, 53977), (218221, 4875), (1200961, 2915), (274676, 8012), (956669, 49670), (439900, 44109), (125883, 44042), (125883, 60257), (130054, 43788), (365712, 10672), (1007279, 96780), (533414, 8005), (757804, 43762), (165618, 44303), (390353, 102164), (390353, 99949), (365071, 55083), (165618, 100182), (188455, 53656), (652570, 95728), (1117512, 95693), (365071, 49606), (956669, 47818), (956669, 7696), (1200961, 50755), (1185145, 58926), (939245, 60075), (390353, 5008), (744355, 59953), (218221, 95762), (58135, 96390), (1200961, 43292), (770638, 44031), (1029826, 8060), (639998, 96465), (140844, 44179), (624547, 8009), (261279, 43159), (58135, 99894), (533414, 59817), (652570, 54801), (970622, 8030), (464319, 43835), (652570, 4291), (390353, 42928), (426926, 96062), (1092996, 50235), (652570, 45352), (165618, 50974), (390353, 104634), (1102867, 44328), (274676, 45369), (1102867, 44099), (512280, 3086), (125883, 8029), (580709, 100124), (815745, 62380), (58135, 51612), (165618, 104170), (508200, 56883), (1073342, 5037), (218221, 43413), (956669, 56946), (721138, 95916), (757804, 101885), (1102867, 50060), (279452, 96593), (464319, 102413), (140844, 47938), (1200961, 51373), (512280, 8000), (1092996, 3363), (239871, 96408), (58135, 57344), (639998, 3297), (165618, 5270), (609818, 50156), (771431, 60271), (956669, 56141), (652570, 4788), (365071, 103420), (1092996, 8853), (165618, 49485), (1200961, 95938), (652570, 97756), (770638, 8031), (390353, 3882), (1201295, 96228), (958462, 43998), (1102867, 1670), (771431, 2190), (165618, 49606), (939245, 4719), (390353, 96621), (1201103, 47884), (1201295, 52255), (939245, 3901), (757804, 7307), (956669, 57322), (390353, 49036), (390353, 741), (693120, 96274), (365071, 96199), (1007279, 2123), (390353, 43788), (1102867, 56852), (1200961, 2286), (1102867, 99899), (279452, 43197), (652570, 3057), (939245, 50223), (968238, 9466), (1201103, 104005), (873863, 60271), (939245, 49405), (743388, 56664), (646087, 55926), (365071, 47688), (58135, 99949), (620746, 9433), (609818, 54144), (165618, 96399), (1102867, 100141), (638025, 5281), (1102867, 51617), (58135, 1854), (827287, 95333), (757804, 100180), (512280, 43263), (493152, 48150), (239871, 49670), (1007279, 96393), (1091373, 1235), (464319, 103273), (652570, 4359), (1007279, 103977), (757804, 43146), (165618, 47888), (1117512, 10740), (165618, 59673), (1200961, 59817), (58135, 95882), (231204, 47819), (165618, 100963), (1102867, 73), (939245, 95969), (956669, 55833), (757804, 96342), (365071, 51326), (261279, 4973), (652570, 2386), (1073342, 60274), (877426, 3611), (1102867, 96195), (1200961, 43844), (845125, 44209), (365071, 97756), (771431, 9466), (293553, 62380), (1200961, 103335), (724868, 96132), (58135, 55184), (639998, 49432), (1092996, 44250), (652570, 47769), (815745, 5535), (757804, 96584), (801923, 95999), (1124810, 43807), (1200961, 95993), (913001, 50974), (757804, 1643), (429177, 8007), (652570, 96535), (140844, 48127), (218221, 102046), (757804, 4797), (58135, 100459), (218221, 42905), (845125, 96479), (1092996, 43445), (939245, 52480), (1102867, 103095), (1201295, 43450), (845125, 95432), (279452, 44178), (483531, 100691), (279452, 49547), (1201295, 100726), (639998, 44318), (956669, 47699), (192779, 8007), (218221, 96690), (1201295, 43571), (1102867, 96571), (84, 56957), (639998, 5593), (125462, 7517), (58135, 43775), (58135, 1438), (669512, 43018), (279452, 103561), (939245, 97755), (1007279, 103669), (956669, 50974), (58135, 96392), (693120, 47818), (580709, 95562), (1092996, 54654), (261279, 47699), (956669, 104049), (1102867, 44088), (639998, 43742), (165618, 96225), (757804, 3066), (58135, 102929), (502896, 59664), (652570, 100173), (483531, 43899), (891040, 8046), (58135, 49386), (172716, 102332), (1102867, 52611), (1102867, 44209), (1102867, 2101), (939245, 11795), (956669, 95310), (956669, 53431), (877426, 95921), (693120, 43859), (58135, 4016), (939245, 103366), (771431, 52313), (1092996, 43821), (261279, 101605), (1102867, 44330), (365071, 55340), (125883, 8031), (652570, 50844), (956669, 55888), (956669, 53673), (165618, 96359), (1200961, 96503), (1073342, 55778), (1102867, 43404), (624547, 60281), (541672, 54486), (1201295, 50484), (733434, 47890), (63776, 61488), (390353, 96247), (939245, 96145), (639998, 43997), (757804, 95350), (956669, 43887), (757804, 96289), (956669, 53915), (1007279, 53656), (1102867, 49833), (140844, 43739), (125462, 43009), (58135, 56178), (239871, 4839), (1073342, 57188), (1102867, 51001), (261279, 42948), (956669, 97901), (913001, 43445), (1102867, 56370), (165618, 53796), (218221, 103966), (279452, 99870), (58135, 3574), (639998, 52762), (261279, 5162), (939245, 45769), (1117512, 43830), (1102867, 103968), (693120, 47739), (652570, 104174), (512280, 96432), (1092996, 96225), (939245, 96400), (218221, 6221), (1092996, 95407), (1102867, 96505), (261279, 54975), (939245, 95353), (165618, 49608), (365071, 47556), (935601, 44210), (749894, 44334), (429177, 6089), (913001, 62009), (1102867, 102224), (693120, 56383), (845125, 54668), (279452, 49494), (63776, 51368), (365071, 43476), (464319, 4804), (639998, 2386), (885334, 606), (1007279, 49602), (172716, 2882), (652570, 43999), (218221, 51496), (652570, 94859), (279452, 44), (906953, 95716), (1201103, 100974), (1102867, 42867), (365071, 7797), (939245, 44159), (757804, 96089), (1102867, 102358), (1200961, 47792), (533414, 96505), (652570, 96148), (639998, 57689), (165618, 95354), (757804, 44303), (1200961, 2651), (956669, 59794), (239871, 3363), (512280, 55050), (845125, 56909), (63776, 100147), (652570, 5408), (1007279, 100596), (771431, 101952), (1102867, 2398), (508200, 2818), (429177, 47526), (1102867, 51861), (58135, 100085), (639998, 103193), (274676, 56285), (58135, 43159), (771431, 60194), (956669, 95728), (652570, 6697), (956669, 49419), (508200, 4925), (771431, 43871), (58135, 43280), (439900, 103349), (939245, 96092), (652570, 4603), (1117512, 4797), (365071, 56926), (1056591, 96196), (1007279, 50449), (1092996, 9836), (956669, 58292), (365071, 43047), (429177, 96184), (1102867, 96547), (639998, 60280), (620746, 96592), (652570, 49986), (1117512, 50180), (81819, 60274), (873863, 2797), (1185145, 57736), (939245, 333), (58135, 96018), (757804, 96357), (218221, 96558), (956669, 43137), (1102867, 102855), (261279, 96788), (970622, 5551), (771431, 44234), (939245, 48978), (1012166, 44026), (261279, 49432), (956669, 43258), (1073342, 60410), (1092996, 55340), (365071, 2120), (58135, 54381), (1092996, 43447), (58135, 101629), (1102867, 96681), (365071, 103719), (218221, 43846), (1201295, 103990), (721138, 56685), (279452, 43951), (431136, 43376), (1044118, 95353), (624547, 95478), (721138, 95302), (956669, 101594), (165618, 96214), (827287, 8007), (58135, 96502), (218221, 43149), (1200961, 43404), (224067, 43737), (970622, 4867), (261279, 43150), (1117512, 5294), (1102867, 50385), (757804, 47499), (261279, 50734), (261279, 44318), (239871, 53915), (1102867, 95876), (1092996, 96764), (939245, 96710), (279452, 43146), (956669, 43742), (1102867, 57151), (1007279, 7791), (261279, 101594), (639998, 10267), (757804, 49606), (1187775, 54572), (939245, 45153), (58135, 54636), (693120, 43969), (885334, 62380), (512280, 44), (652570, 51651), (939245, 44106), (956669, 97756), (652570, 48618), (1201295, 95843), (293553, 95430), (1092996, 57113), (58135, 43911), (140844, 100412), (508200, 3691), (1102867, 57164), (1092996, 43005), (1201295, 43010), (721138, 51813), (261279, 95312), (1200961, 43780), (365071, 103169), (757804, 96399), (483531, 47647), (390353, 43524), (239871, 7982), (652570, 56565), (58135, 96181), (845125, 47649), (669512, 57746), (1102867, 100574), (1102867, 96373), (1073342, 60223), (757804, 9042), (652570, 7933), (1117512, 104128), (1092996, 7797), (956669, 100347), (757804, 43687), (218221, 43888), (743388, 48708), (939245, 103973), (646087, 43769), (956669, 52762), (165618, 47382), (1073342, 57311), (956669, 98253), (58135, 48838), (1200961, 102358), (956669, 4359), (261279, 54977), (218221, 102224), (693120, 96386), (1102867, 99890), (279452, 47389), (1201295, 47829), (274676, 97898), (956669, 96401), (757804, 44171), (956669, 58494), (165618, 52885), (693120, 48922), (757804, 95849), (1102867, 44024), (190242, 43070), (365071, 4524), (1200961, 100506), (58135, 102865), (1073342, 95473), (58135, 8032), (165618, 53006), (1029826, 45797), (218221, 4371), (261279, 55340), (939245, 56054), (771431, 51081), (939245, 95718), (261279, 2386), (218221, 60250), (239871, 7782), (165618, 43557), (939245, 3100), (837149, 43059), (464319, 42955), (1073342, 100963), (1124810, 54978), (1092996, 95664), (274676, 61522), (192779, 52642), (1007279, 96505), (218221, 2398), (390353, 96062), (1102867, 2279), (913001, 60280), (744355, 96067), (1200961, 2774), (721138, 57008), (1007279, 101995), (877426, 95991), (1073342, 95728), (652570, 96392), (261279, 96535), (1102867, 3568), (533414, 44024), (493152, 100182), (721138, 56190), (652570, 43438), (1102867, 55246), (757804, 56561), (652570, 95345), (757804, 96225), (652570, 55223), (757804, 5593), (165618, 43812), (126922, 95392), (1102867, 51984), (721138, 100176), (126922, 96789), (1102867, 61783), (733434, 96363), (743388, 47474), (390353, 96196), (652570, 4605), (877426, 47938), (58135, 50866), (757804, 59836), (1092996, 96269), (1117512, 95323), (365071, 43049), (390353, 1484), (218221, 96439), (1200961, 52600), (733434, 99867), (1102867, 96320), (1073342, 53983), (261279, 96669), (693120, 96199), (970622, 44278), (939245, 96336), (939245, 43611), (1073342, 62735), (274676, 101912), (865352, 7985), (58135, 96370), (1073342, 101352), (1003282, 95342), (1007279, 50464), (261279, 102159), (638025, 96535), (1073342, 54225), (771431, 55203), (63776, 47921), (431084, 47268), (390353, 4880), (956669, 50844), (1007279, 8706), (1073342, 44318), (939245, 56685), (165618, 48618), (1102867, 56790), (1092996, 51262), (58135, 102799), (1102867, 100066), (218221, 2908), (1102867, 42911), (48144, 55246), (770638, 60239), (58135, 95336), (757804, 100105), (1102867, 48280), (390353, 60062), (757804, 53796), (639998, 8041), (757804, 95904), (935601, 100267), (652570, 60271), (652570, 44177), (721138, 52499), (365071, 1438), (771431, 95351), (1073342, 7942), (652570, 2190), (638025, 60280), (827287, 50130), (218221, 95889), (1102867, 47475), (279452, 47699), (939245, 56940), (493152, 5162), (58135, 95699), (1201103, 95675), (426926, 296), (757804, 47743), (652570, 44190), (939245, 43290), (1200961, 43769), (652570, 54218), (956669, 101141), (261279, 47945), (1102867, 44334), (365071, 95466), (956669, 100094), (956669, 99865), (939245, 95907), (1102867, 100442), (1007279, 95405), (62023, 8029), (1007279, 101003), (1102867, 101610), (638025, 50844), (365071, 95587), (261279, 95314), (1073342, 43997), (165618, 96592), (1201103, 52762), (771431, 2049), (757804, 2386), (58135, 100263), (58135, 96062), (757804, 43447), (956669, 5274), (1073342, 96025), (956669, 94859), (27153, 43384), (429177, 48764), (956669, 98013), (1102867, 96375), (1102867, 5972), (390353, 57647), (1073342, 42963), (261279, 43999), (1200961, 100132), (483531, 54078), (939245, 43437), (58135, 96196), (1102867, 59757), (130054, 95406), (1201295, 47818), (1201295, 43388), (218221, 43782), (939245, 53357), (885334, 8060), (261279, 100120), (1092996, 8041), (279452, 49485), (939245, 96633), (1102867, 101168), (1201295, 59953), (1102867, 1676), (956669, 4711), (733434, 96794), (58135, 8021), (646087, 51368), (261279, 5408), (239871, 57113), (293553, 47647), (724868, 8029), (956669, 43328), (1200961, 48709), (1007279, 47499), (757804, 100160), (757804, 95959), (757804, 49421), (63776, 1909), (218221, 3084), (84, 53983), (939245, 96646), (721138, 95480), (939245, 43921), (1200961, 50816), (652570, 52634), (140844, 44119), (165618, 43438), (533414, 43771), (390353, 44144), (165618, 48807), (1007279, 49956), (845125, 95625), (1007279, 43311), (165618, 96284), (757804, 43018), (652570, 2016), (1102867, 96054), (1073342, 57689), (693120, 43797), (395248, 57692), (165618, 103868), (281883, 10672), (140844, 9945), (652570, 47507), (261279, 95356), (771431, 51433), (652570, 100353), (956669, 43812), (293553, 43701), (757804, 43260), (1102867, 96067), (390353, 57339), (58135, 95996), (956669, 102027), (939245, 56190), (956669, 95611), (652570, 56501), (1102867, 43463), (279452, 47888), (939245, 44297), (1102867, 48832), (172716, 100310), (464319, 44259), (125462, 99873), (867901, 96592), (956669, 43946), (760122, 95310), (58135, 43284), (426926, 606), (125462, 44115), (1102867, 43705), (652570, 45668), (939245, 4875), (1092996, 96271), (743388, 43396), (652570, 53481), (939245, 56553), (757804, 102067), (744355, 48968), (58135, 43526), (58135, 43297), (956669, 100296), (1102867, 54564), (365071, 101495), (165618, 104486), (652570, 43695), (939245, 48982), (279452, 95849), (771431, 54266), (845125, 50284), (771431, 1312), (140844, 42993), (1092996, 104097), (845125, 99747), (63776, 8030), (261279, 44188), (1200961, 56227), (885334, 8007), (218221, 55743), (533414, 52215), (218221, 42911), (1007279, 44171), (1092996, 43680), (1102867, 684), (956669, 10135), (639998, 49801), (431136, 43380), (956669, 56336), (165618, 52942), (956669, 8041), (885334, 2651), (260996, 8413), (652570, 96783), (939245, 55761), (939245, 95654), (165618, 49909), (757804, 42952), (1003282, 60244), (753999, 43677), (639998, 95413), (956669, 7933), (125883, 96320), (1102867, 100310), (218789, 60239), (390353, 44320), (1092996, 100151), (1201103, 95785), (956669, 59961), (939245, 95896), (22759, 56926), (1200961, 103020), (125883, 8024), (365071, 96623), (1102867, 47477), (956669, 96592), (27153, 55963), (791603, 101176), (1200961, 4925), (125462, 43807), (1200961, 96496), (1201295, 45337), (1102867, 102538), (58135, 56976), (1200961, 95678), (533414, 95867), (1092996, 60271), (757804, 56497), (652570, 101468), (390353, 56347), (652570, 102865), (390353, 103595), (140844, 96336), (939245, 101507), (533414, 95988), (757804, 43557), (58135, 52788), (624547, 60287), (1102867, 103719), (1201295, 44303), (935601, 96565), (939245, 47856), (58135, 57339), (426926, 96662), (757804, 59664), (218789, 51984), (968238, 8038), (458094, 60187), (652570, 99845), (624547, 63791), (669512, 95428), (218221, 45757), (620746, 8005), (1200961, 42979), (1102867, 53222), (390353, 56602), (1007279, 49582), (774984, 53789), (165618, 50769), (757804, 43812), (939245, 53588), (27153, 43749), (218221, 5288), (1073342, 6697), (1201103, 49986), (913001, 96647), (218221, 104443), (721138, 96408), (390353, 2843), (165618, 1319), (27153, 43870), (1102867, 95693), (390353, 8212), (646087, 42968), (516868, 7991), (724868, 8031), (1102867, 2028), (1102867, 43907), (956669, 103868), (1200961, 43463), (1201103, 43812), (165618, 2379), (733434, 56206), (743388, 43009), (63776, 43911), (638025, 95908), (365071, 96328), (1102867, 10672), (646087, 10672), (261279, 4605), (693120, 103169), (1102867, 96056), (218221, 3328), (1073342, 9396), (1092996, 52621), (58135, 43849), (757804, 46403), (58135, 97742), (757804, 60403), (652570, 48677), (261279, 296), (218221, 96067), (638025, 95921), (935601, 55317), (279452, 43447), (58135, 55984), (968238, 9945), (1092996, 96018), (609818, 43427), (1200961, 96672), (82397, 96741), (956669, 49183), (58135, 57152), (502896, 104061), (845125, 48742), (42298, 60982), (1201295, 103607), (652570, 47751), (652570, 43550), (757804, 4766), (218221, 57463), (757804, 10135), (956669, 58164), (218221, 54430), (1201295, 47391), (1201295, 3297), (1007279, 750), (1073342, 7315), (1200961, 97732), (165618, 50461), (125462, 6089), (165618, 43816), (533414, 57210), (426926, 43763), (1102867, 43586), (27153, 50086), (58135, 56347), (956669, 44177), (749894, 5294), (218221, 4980), (1073342, 60282), (652570, 96638), (935601, 99895), (939245, 59817), (939245, 101696), (757804, 48994), (827287, 96054), (652570, 43684), (62023, 95819), (390353, 56657), (27153, 101885), (939245, 8031), (956669, 3358), (165618, 1950), (1102867, 43828), (885334, 96184), (140844, 43921), (27153, 47884), (956669, 44190), (757804, 96592), (218221, 6161), (512280, 5151), (771431, 4576), (239871, 43049), (1102867, 51533), (502896, 50894), (771431, 9945), (365071, 47725), (261279, 43022), (956669, 49909), (939245, 43736), (1007279, 100160), (1102867, 96795), (1073342, 10135), (1102867, 43841), (939245, 57736), (63776, 8032), (652570, 43818), (218221, 53759), (1102867, 102164), (1102867, 99949), (58135, 47971), (58135, 49957), (757804, 44109), (58135, 95448), (281883, 60287), (1007279, 47556), (1073342, 3611), (956669, 51198), (1102867, 53761), (774984, 62380), (646087, 95869), (1201295, 100963), (652570, 45336), (939245, 96703), (652570, 2999), (429177, 96674), (63776, 96691), (956669, 95413), (165618, 49911), (218221, 45370), (757804, 101506), (279452, 50844), (757804, 43304), (652570, 4288), (939245, 78515), (58135, 48334), (390353, 101477), (58135, 8212), (652570, 43363), (956669, 8056), (1201295, 8358), (1073342, 43867), (483531, 42968), (652570, 100410), (165618, 99845), (279452, 43502), (1092996, 9642), (508200, 62128), (261279, 95305), (390353, 1288), (218221, 96243), (1007279, 684), (1102867, 55184), (956669, 9466), (620746, 4719), (58135, 52898), (733434, 51268), (652570, 5590), (939245, 44354), (279452, 102067), (771431, 56054), (939245, 100691), (652570, 51081), (58135, 59435), (365712, 95624), (885334, 44319), (652570, 96572), (58135, 44159), (261279, 52621), (165618, 2931), (1200961, 3075), (58135, 43341), (446291, 8056), (1092996, 43253), (1201295, 49674), (239871, 43680), (533414, 48755), (1102867, 49949), (939245, 95335), (652570, 8047), (218221, 95559), (956669, 2016), (390353, 96376), (239871, 100956), (390353, 95558), (165618, 96020), (58135, 100738), (1092996, 96449), (165618, 4341), (1201103, 95466), (1201103, 51143), (1102867, 3882), (837149, 57736), (58135, 96429), (279452, 58228), (646087, 60219), (757804, 43814), (757804, 100151), (218221, 95693), (1092996, 96691), (1200961, 43223), (1007279, 49597), (218221, 43907), (1102867, 1909), (165618, 100355), (1012166, 50974), (1200961, 96069), (744355, 5294), (533414, 96487), (390353, 101061), (1091373, 100132), (192779, 56823), (1102867, 54984), (58135, 95395), (939245, 60248), (1102867, 43909), (693120, 43788), (877426, 42896), (1044118, 4903), (365071, 47914), (1201295, 103125), (956669, 52313), (693120, 95466), (261279, 95347), (1102867, 44259), (165618, 100597), (956669, 53481), (956669, 95360), (1102867, 47413), (261279, 51963), (218221, 57331), (760122, 50844), (1102867, 96058), (365071, 56787), (365071, 54572), (261279, 52313), (845125, 44301), (279452, 43557), (126922, 96540), (58135, 95758), (1007279, 50081), (165618, 60946), (913001, 62380), (1201295, 100105), (1007279, 101988), (58135, 60187), (58135, 45369), (274676, 43677), (1117512, 95303), (939245, 96195), (757804, 49909), (652570, 4477), (693120, 48473), (1102867, 96071), (652570, 98492), (1102867, 45561), (652570, 43552), (827287, 95693), (744355, 55133), (58135, 96000), (261279, 53494), (431136, 54780), (390353, 43464), (877426, 8038), (970622, 60244), (1102867, 47897), (771431, 44216), (339981, 62735), (1200961, 43023), (261279, 95494), (771431, 43169), (1102867, 96313), (639998, 56074), (390353, 43477), (365071, 56934), (970622, 5546), (970622, 43453), (1124810, 104113), (27153, 8101), (877426, 96589), (58135, 95316), (218221, 43720), (652570, 96761), (956669, 61683), (395248, 43146), (1200961, 95882), (261279, 62380), (279452, 49423), (1007279, 100270), (1102867, 43951), (58135, 4576), (218221, 99949), (279452, 95853), (956669, 8032), (239871, 52621), (1073342, 96339), (639998, 8034), (218221, 53761), (48144, 43575), (58135, 43772), (646087, 60287), (1102867, 7333), (239871, 101495), (956669, 57616), (815745, 43586), (1102867, 43146), (1007279, 44296), (757804, 50648), (652570, 43123), (956669, 43737), (58135, 738), (1102867, 48286), (956669, 99845), (218221, 1278), (652570, 60277), (652570, 95969), (279452, 7799), (757804, 50769), (956669, 101952), (218221, 104634), (429177, 95979), (1102867, 100314), (1124810, 95979), (693120, 1977), (760122, 3314), (165618, 59833), (261279, 47938), (646087, 45603), (939245, 52853), (757804, 54044), (84, 4713), (652570, 6626), (279452, 228), (493152, 6444), (1091373, 48764), (1102867, 96005), (580709, 95693), (1102867, 43280), (757804, 272), (693120, 95884), (956669, 43871), (1003282, 57228), (1102867, 55065), (1092996, 45336), (845125, 47402), (126922, 99870), (1007279, 99949), (390353, 43169), (1007279, 53411), (771431, 54767), (125883, 99949), (757804, 47870), (1200961, 56957), (1007279, 5008), (426926, 8007), (1124810, 45603), (771431, 44042), (58135, 56054), (771431, 60257), (58135, 43222), (218221, 43762), (1102867, 5965), (624547, 62735), (652570, 1741), (956669, 4341), (845125, 100719), (140844, 57736), (1201295, 43260), (639998, 102559), (365071, 52788), (721138, 96386), (464319, 3499), (939245, 53229), (639998, 55203), (390353, 96607), (771431, 9760), (757804, 95710), (1102867, 43885), (165618, 96022), (652570, 43862), (1200961, 7520), (939245, 96626), (125883, 10740), (1092996, 51081), (639998, 3538), (140844, 44099), (165618, 53806), (140844, 43870), (620746, 48252), (218221, 49494), (58135, 43477), (771431, 8016), (1091373, 100121), (757804, 50461), (639998, 4477), (140844, 43052), (956669, 7858), (939245, 8101), (1102867, 43898), (580709, 43586), (639998, 43552), (1185145, 60256), (1200961, 43454), (845125, 50235), (165618, 50894), (721138, 42748), (845125, 104128), (218221, 44), (639998, 96398), (1044118, 8046), (770638, 42917), (1117512, 44190), (1102867, 100127), (58135, 96444), (224067, 96633), (261279, 102691), (757804, 61549), (533414, 50180), (620746, 58293), (771431, 8029), (873863, 50929), (1007279, 43304), (939245, 60250), (165618, 43552), (58135, 96794), (970622, 95562), (279452, 1438), (757804, 44179), (1124810, 101282), (757804, 49548), (992975, 7791), (652570, 96145), (956669, 58852), (165618, 49042), (116105, 96411), (1056591, 95938), (939245, 96184), (1007279, 55331), (639998, 49405), (140844, 1320), (721138, 49419), (757804, 96328), (279452, 51143), (845125, 47457), (390353, 5546), (390353, 43224), (1073342, 95723), (165618, 104224), (390353, 57224), (744355, 59673), (390353, 4499), (1092996, 96022), (1117512, 95305), (365071, 51433), (757804, 49911), (877426, 96336), (125883, 1909), (431136, 100152), (693120, 95952), (956669, 43939), (1092996, 102559), (58135, 47478), (140844, 95348), (218221, 96542), (956669, 45336), (1102867, 60731), (1102867, 49885), (624547, 9836), (652570, 43675), (652570, 3782), (1102867, 48838), (757804, 52139), (130054, 4701), (639998, 60277), (939245, 95392), (956669, 2302), (1200961, 43146), (390353, 96662), (956669, 43363), (281883, 4867), (939245, 96681), (624547, 55340), (140844, 51617), (365071, 103595), (1073342, 56206), (431136, 43481), (721138, 96454), (939245, 49096), (27153, 43916), (1201103, 47938), (939245, 54694), (1201103, 43737), (652570, 3098), (757804, 43871), (956669, 47806), (1056591, 59817), (956669, 43376), (58135, 55317), (1102867, 54570), (1073342, 7803), (1200961, 96234), (743388, 96598), (58135, 96378), (970622, 51281), (130054, 98032), (956669, 8034), (58135, 103962), (757804, 5267), (339981, 56926), (1200961, 100556), (1200961, 96355), (279452, 102392), (1092996, 56747), (956669, 96572), (126922, 96234), (126922, 59495), (130054, 2044), (58135, 96620), (639998, 97742), (580709, 49252), (125462, 53128), (1200961, 95429), (757804, 104543), (483531, 5281), (58135, 43787), (1092996, 2049), (652570, 5339), (771431, 53588), (1200961, 50180), (733434, 170), (956669, 96706), (165618, 43741), (652570, 96213), (956669, 56934), (652570, 5581), (1102867, 8987), (1102867, 50866), (873863, 58823), (218221, 96247), (58135, 54996), (493152, 100353), (624547, 60280), (239871, 99887), (652570, 43380), (218221, 95429), (743388, 43323), (390353, 47722), (218221, 96368), (1102867, 47725), (1102867, 43524), (1201295, 48618), (429177, 50974), (733434, 96534), (968238, 8031), (58135, 43224), (390353, 43642), (218221, 54381), (58135, 4499), (639998, 43070), (140844, 59953), (165618, 103366), (939245, 96386), (365071, 3098), (877426, 43800), (533414, 50974), (1102867, 57766), (827287, 43159), (279452, 47373), (609818, 5245), (140844, 52611), (165618, 100225), (956669, 50894), (939245, 56735), (646087, 5162), (261279, 42960), (140844, 5026), (1073342, 7858), (652570, 96710), (165618, 100346), (1102867, 60223), (760122, 60271), (956669, 98492), (125883, 101495), (956669, 43552), (939245, 43795), (652570, 52737), (721138, 96751), (1200961, 102826), (624547, 10267), (693120, 43550), (1092996, 43741), (165618, 50896), (639998, 96400), (620746, 8603), (239871, 45336), (771431, 96677), (1007279, 50769), (771431, 8031), (652570, 51582), (956669, 43565), (533414, 95444), (757804, 56074), (1200961, 8006), (1102867, 53941), (58135, 43842), (1073342, 96759), (1092996, 42936), (652570, 9945), (22759, 60249), (956669, 43807), (58135, 42916), (1102867, 96291), (1102867, 96062), (58135, 44084), (885334, 60230), (365071, 43959), (956669, 96653), (638025, 50894), (58135, 95762), (1007279, 47870), (125462, 50284), (58135, 4312), (652570, 43435), (652570, 3542), (1201295, 50767), (693120, 96062), (693120, 100263), (744355, 55245), (365071, 102174), (140844, 57780), (231204, 3955), (464319, 52885), (130054, 53214), (956669, 7310), (1200961, 6275), (858056, 96185), (771431, 44099), (757804, 4772), (261279, 43699), (721138, 43247), (721138, 1139), (652570, 101879), (939245, 96320), (218221, 100974), (956669, 43123), (760122, 43748), (279452, 43924), (652570, 43677), (58135, 60433), (58135, 96125), (956669, 95969), (426926, 43998), (1102867, 43821), (1007279, 50569), (58135, 47722), (58135, 43521), (390353, 96664), (1007279, 43924), (58135, 43292), (261279, 43123), (390353, 47911), (293553, 95979), (760122, 52621), (261279, 54908), (261279, 48492), (58135, 43642), (1102867, 96788), (231204, 55888), (1007279, 47428), (639998, 96213), (1073342, 47806), (365712, 61522), (652570, 3918), (939245, 42911), (721138, 6053), (165618, 47447), (1102867, 49432), (1092996, 8212), (652570, 95718), (652570, 49409), (652570, 3100), (956669, 47808), (165618, 44185), (281883, 60280), (1073342, 8034), (743388, 96600), (845125, 8413), (125462, 50902), (771431, 1549), (58135, 58823), (62023, 96188), (1102867, 49445), (464319, 95611), (652570, 43235), (58135, 97898), (165618, 333), (58135, 7266), (1073342, 8047), (390353, 49563), (885334, 96782), (693120, 48048), (58135, 9373), (1102867, 44089), (125462, 1573), (652570, 64711), (1102867, 5593), (58135, 95925), (1073342, 4088), (165618, 7930), (1200961, 43766), (1102867, 3499), (939245, 61488), (639998, 103355), (165618, 47944), (939245, 3286), (58135, 44031), (279452, 43737), (721138, 95906), (1102867, 4788), (58135, 2273), (939245, 2360), (126922, 5162), (464319, 54229), (390353, 95430), (1102867, 43526), (125462, 53735), (58135, 96180), (970622, 101593), (956669, 44117), (1201295, 54218), (771431, 61429), (652570, 100779), (721138, 96269), (493152, 47643), (218221, 57766), (1200961, 3081), (1102867, 721), (956669, 100346), (956669, 96145), (956669, 43191), (1007279, 49577), (165618, 100106), (624547, 10135), (261279, 44117), (365071, 44161), (939245, 49032), (1092996, 333), (757804, 96761), (165618, 50764), (224067, 95335), (624547, 8041), (956669, 50896), (261279, 100346), (261279, 96145), (1092996, 8038), (58135, 101912), (390353, 42960), (165618, 3529), (1200961, 96062), (652570, 60202), (464319, 51222), (390353, 2020), (165618, 50777), (721138, 51262), (1200961, 6827), (1102867, 54977), (274676, 5508), (624547, 10498), (239871, 96185), (1007279, 50879), (58135, 43831), (652570, 47491), (956669, 8212), (1102867, 57084), (609818, 43288), (639998, 43677), (1200961, 96304), (533414, 43997), (652570, 51813), (58135, 42905), (652570, 50766), (652570, 8658), (1092996, 103355), (218221, 43445), (125883, 57766), (693120, 100131), (956669, 45903), (646087, 55340), (1092996, 43167), (1102867, 44265), (693120, 56976), (165618, 43677), (83632, 61429), (815745, 5162), (757804, 60748), (58135, 3254), (390353, 98276), (939245, 96188), (956669, 95716), (63776, 56054), (218221, 95365), (1102867, 57339), (165618, 103289), (939245, 96309), (580709, 60410), (757804, 101930), (390353, 95364), (165618, 100027), (1117512, 96356), (1200961, 49432), (1102867, 57689), (58135, 101483), (1185145, 7803), (165618, 100148), (1117512, 8060), (165618, 49409), (165618, 3100), (760122, 101952), (652570, 104096), (757804, 96574), (757804, 52480), (652570, 53357), (956669, 58401), (1201103, 47687), (757804, 43849), (390353, 8007), (724868, 96243), (165618, 44161), (1073342, 60277), (1102867, 54319), (757804, 97742), (1102867, 8010), (958462, 48473), (274676, 55710), (827287, 43445), (279452, 95954), (536662, 60187), (913001, 100777), (390353, 43941), (956669, 96092), (218221, 97727), (1201295, 4715), (58135, 50060), (652570, 102015), (652570, 95828), (365712, 98492), (939245, 6053), (1102867, 101220), (956669, 47689), (652570, 44042), (939245, 5235), (58135, 100691), (218221, 43137), (58135, 43765), (1201103, 43741), (939245, 44081), (609818, 56054), (140844, 61541), (140844, 103420), (652570, 54780), (771431, 612), (652570, 44163), (27153, 43812), (652570, 1008), (1102867, 48508), (1200961, 54480), (218221, 53996), (939245, 42926), (365071, 103962), (771431, 57780), (845125, 49597), (261279, 48978), (125883, 96546), (125462, 45777), (58135, 6221), (58135, 2020), (58135, 43899), (652570, 56190), (1201295, 103415), (956669, 96697), (1092996, 56054), (1102867, 57152), (956669, 5018), (125883, 8021), (1102867, 47703), (1102867, 47474), (1102867, 43273), (165618, 102055), (721138, 95895), (693120, 100078), (533414, 60280), (891040, 100078), (1091373, 59495), (1201295, 9642), (27153, 44296), (815745, 1955), (639998, 43048), (652570, 43600), (58135, 96048), (365071, 49156), (218221, 96359), (956669, 45153), (652570, 56553), (1102867, 43515), (939245, 103719), (721138, 56244), (218221, 95312), (1092996, 100511), (771431, 60250), (274676, 8046), (1124810, 8039), (58135, 8691), (690099, 60187), (1102867, 43407), (84, 104224), (279452, 99968), (1200961, 42963), (935601, 103207), (274676, 43859), (1102867, 481), (261279, 45153), (757804, 8212), (218221, 54493), (720060, 96116), (652570, 43734), (939245, 53222), (956669, 44119), (58135, 47658), (639998, 44350), (1007279, 99968), (27153, 457), (652570, 96580), (165618, 96015), (218221, 95675), (815745, 5593), (652570, 60070), (652570, 95762), (63776, 606), (165618, 2121), (1102867, 56602), (365071, 57224), (261279, 44119), (1102867, 102093), (1102867, 53569), (58135, 8007), (1185145, 51268), (652570, 53775), (771431, 8009), (390353, 96613), (165618, 50766), (192779, 10267), (82397, 48764), (274676, 42946), (939245, 95693), (493152, 43686), (721138, 43788), (757804, 103300), (261279, 58240), (956669, 96389), (757804, 44159), (956669, 43435), (431136, 96386), (512280, 2999), (964312, 96432), (913001, 51503), (652570, 2110), (1102867, 100120), (652570, 1063), (126922, 58494), (281883, 60229), (760122, 2302), (63776, 96741), (639998, 43558), (58135, 96558), (652570, 96017), (1201295, 103349), (652570, 43292), (1102867, 52885), (609818, 43290), (939245, 45317), (877426, 60274), (58135, 103095), (165618, 43437), (58135, 62384), (693120, 2964), (464319, 50648), (1092996, 5141), (639998, 95478), (261279, 7985), (261279, 43677), (956669, 43919), (757804, 96321), (1102867, 173), (939245, 96069), (125883, 103030), (365071, 103212), (1102867, 43449), (125462, 96705), (845125, 43141), (956669, 49409), (956669, 3100), (1102867, 49986), (261279, 96644), (1200961, 95851), (279452, 99902), (58135, 47471), (140844, 101986), (365071, 95870), (1092996, 51813), (639998, 44163), (992975, 96456), (218221, 56413), (1200961, 52467), (279452, 50331), (757804, 2669), (261279, 100148), (365071, 95762), (639998, 44284), (274676, 62115), (165618, 95949), (1092996, 96378), (27153, 43438), (1007279, 48345), (652570, 51373), (1007279, 100252), (125462, 4221), (431136, 51984), (140844, 43797), (82397, 96054), (1102867, 95611), (1025221, 96178), (652570, 57681), (27153, 104097), (652570, 43802), (125462, 47389), (58135, 47955), (721138, 95400), (939245, 99949), (913001, 53423), (218221, 60280), (339981, 96691), (721138, 96339), (1124810, 102135), (126922, 4535), (58135, 43646), (1007279, 96185), (770638, 100120), (1092996, 53357), (165618, 102620), (390353, 97728), (652570, 2165), (757804, 45153), (693120, 96671), (218221, 58186), (140844, 96067), (1091373, 100182), (1201295, 60946), (913001, 96591), (956669, 96336), (815745, 57689), (362142, 48764), (1073342, 96455), (744355, 43961), (1102867, 52590), (1073342, 8038), (1102867, 43959), (939245, 43036), (1102867, 60403), (1092996, 96754), (390353, 56909), (261279, 51892), (652570, 49534), (125883, 61782), (58135, 55673), (1102867, 48510), (652570, 96193), (63776, 42916), (939245, 104634), (390353, 56212), (533414, 3114), (652570, 50823), (165618, 96567), (390353, 7688), (218221, 47703), (218221, 43273), (1092996, 44042), (58135, 102224), (261279, 2792), (970622, 60281), (1092996, 55948), (512280, 43552), (639998, 52499), (639998, 49466), (1092996, 44284), (815745, 60280), (652570, 43373), (533414, 96095), (464319, 61683), (58135, 47526), (652570, 101696), (261279, 95423), (1201295, 56074), (639998, 95896), (652570, 98434), (771431, 44037), (956669, 56940), (58135, 47647), (239871, 100940), (429177, 8041), (1102867, 96363), (639998, 96017), (464319, 49911), (218221, 57757), (956669, 2121), (757804, 43677), (1007279, 49568), (771431, 61541), (1185145, 43673), (165618, 95896), (390353, 4802), (165618, 3278), (58135, 96184), (652570, 104045), (757804, 43798), (1007279, 62521), (1007279, 95998), (743388, 524), (757804, 9503), (624547, 8032), (125883, 47703), (757804, 103289), (652570, 102180), (1092996, 56553), (757804, 96644), (1117512, 60037), (939245, 52527), (1201295, 8034), (1200961, 6697), (279452, 103366), (638025, 43745), (431136, 7958), (580709, 57689), (743388, 43921), (58135, 43701), (1102867, 42954), (165618, 101507), (439900, 50816), (1200961, 52898), (58135, 95379), (757804, 100148), (1117512, 96789), (239871, 100148), (1007279, 103595), (165618, 47506), (58135, 52224), (652570, 97992), (395248, 95345), (365071, 96193), (390353, 52642), (1200961, 95356), (1007279, 43407), (58135, 2882), (1092996, 42916), (1073342, 43556), (1201295, 3028), (1102867, 60229), (771431, 96670), (1092996, 43855), (365071, 3696), (218221, 55100), (939245, 44030), (1201103, 100027), (771431, 95623), (956669, 99895), (639998, 45775), (939245, 47413), (1102867, 104444), (274676, 57190), (464319, 5267), (956669, 96633), (27153, 95897), (1201103, 100148), (140844, 57410), (939245, 96058), (1201103, 3100), (218221, 98268), (771431, 96683), (652570, 100341), (395248, 57801), (639998, 55695), (1102867, 55223), (646087, 48807), (771431, 42911), (939245, 61655), (771431, 48280), (58135, 95984), (956669, 43921), (845125, 102392), (365071, 102046), (885334, 57190), (1201295, 7484), (165618, 1573), (652570, 96382), (956669, 44042), (533414, 60229), (1092996, 96017), (125462, 96707), (652570, 51012), (956669, 60257), (1029826, 60271), (646087, 296), (58135, 57151), (1007279, 2843), (1200961, 104484), (939245, 4742), (1201295, 142), (743388, 43263), (956669, 96070), (913001, 98311), (939245, 47789), (1092996, 101507), (390353, 95368), (1200961, 60282), (27153, 7856), (845125, 47815), (845125, 49801), (426926, 715), (1200961, 52590), (125883, 44025), (218221, 8012), (652570, 96516), (771431, 48764), (646087, 43814), (1200961, 95866), (760122, 97755), (274676, 54654), (58135, 43285), (1092996, 43426), (956669, 56190), (1200961, 55155), (652570, 103282), (743388, 579), (935601, 95922), (125462, 98238), (639998, 45346), (165618, 95843), (1117512, 43877), (218221, 49423), (140844, 95706), (939245, 96447), (399035, 104134), (1102867, 43827), (365071, 50865), (721138, 102865), (956669, 53049), (218221, 95853), (652570, 100141), (1102867, 101103), (1102867, 96673), (58135, 601), (939245, 97736), (580709, 95314), (956669, 56553), (426926, 101401), (1092996, 51373), (125883, 7999), (1102867, 102392), (365071, 50060), (956669, 50029), (1091373, 43258), (956669, 47814), (58135, 95676), (493152, 103355), (439900, 103020), (757804, 96015), (165618, 96327), (939245, 55870), (464319, 43818), (638025, 95841), (1102867, 96097), (239871, 7598), (1200961, 43517), (125462, 101876), (165618, 101696), (1102867, 52942), (652570, 48489), (365071, 381), (743388, 101157), (638025, 9760), (218221, 45369), (502896, 95350), (365071, 96382), (1185145, 44346), (1102867, 44203), (274676, 43258), (165618, 96569), (939245, 96005), (956669, 95762), (757804, 55317), (365071, 1670), (757804, 96378), (365712, 95718), (1007279, 95395), (1073342, 43048), (274676, 96454), (533414, 43022), (845125, 43427), (939245, 96247), (442793, 44081), (390353, 95302), (493152, 49609), (815745, 60282), (218221, 95424), (82397, 99949), (956669, 2110), (1200961, 42954), (1007279, 43959), (939245, 104770), (721138, 44234), (652570, 103095), (390353, 95423), (192779, 57372), (743388, 98379), (1201103, 56485), (58135, 43448), (365071, 51496), (791603, 170), (757804, 43558), (1007279, 95758), (1200961, 44243), (1102867, 54486), (609818, 42905), (652570, 96571), (939245, 95442), (970622, 45370), (82397, 100191), (652570, 97739), (365071, 95940), (1073342, 44350), (939245, 96610), (1200961, 44135), (652570, 43738), (956669, 100460), (913001, 96514), (395248, 48675), (390353, 43879), (1007279, 95771), (1092996, 101696), (771431, 57463), (624547, 8034), (493152, 43677), (1117512, 43824), (1102867, 55667), (224067, 45757), (365071, 43457), (580709, 7999), (956669, 95333), (1007279, 101490), (749894, 47819), (58135, 96428), (639998, 95335), (22759, 104083), (365071, 12087), (845125, 43924), (771431, 95383), (935601, 100312), (58135, 103194), (1200961, 96176), (1200961, 47652), (261279, 96151), (1092996, 57736), (760122, 4400), (652570, 52853), (165618, 96382), (261279, 4701), (390353, 5288), (1102867, 100353), (58135, 96670), (771431, 8026), (1117512, 5462), (165618, 51012), (126922, 96176), (365071, 101914), (1201103, 95828), (390353, 104443), (165618, 100704), (1200961, 96418), (165618, 101643), (390353, 4362), (1056591, 96043), (956669, 45896), (639998, 1804), (1200961, 43814), (218221, 103868), (1091373, 43447), (757804, 102620), (1201103, 95841), (58135, 42911), (63776, 55108), (873863, 100631), (956669, 51615), (390353, 43329), (580709, 60282), (639998, 60248), (125462, 42695), (1201103, 100392), (1201295, 96132), (261279, 54648), (274676, 96630), (1007279, 96510), (652570, 103968), (1092996, 47724), (771431, 45370), (757804, 8029), (652570, 96505), (125883, 60229), (721138, 96196), (939245, 4744), (652570, 57780), (652570, 95458), (442793, 10672), (935601, 56018), (1073342, 9760), (279452, 43919), (639998, 45335), (1117512, 96362), (771431, 104753), (760122, 95421), (1092996, 43536), (58135, 48764), (365071, 115), (1200961, 47573), (1092996, 96382), (970622, 55345), (261279, 95843), (845125, 45952), (1007279, 49517), (279452, 44161), (1102867, 1600), (52797, 8056), (218221, 60271), (365071, 236), (239871, 95762), (218221, 43009), (1102867, 57708), (58135, 43408), (652570, 42867), (1201295, 54400), (165618, 48489), (165618, 44288), (956669, 43481), (1102867, 96783), (652570, 102358), (58135, 2818), (464319, 43807), (721138, 96572), (1102867, 62380), (239871, 49466), (293553, 10135), (1201295, 43796), (1007279, 47665), (1201103, 95762), (390353, 100176), (390353, 5114), (1200961, 96352), (1187775, 60151), (58135, 43771), (639998, 9201), (956669, 96569), (1200961, 95305), (516868, 8047), (970622, 60151), (1102867, 95870), (652570, 5444), (652570, 61552), (390353, 95988), (639998, 8046), (390353, 43263), (429177, 62380), (1007279, 51290), (757804, 101507), (1102867, 47467), (1201295, 103300), (1102867, 101360), (638025, 50823), (609818, 96195), (58135, 5288), (733434, 43551), (274676, 43489), (939245, 96236), (125462, 100723), (110576, 60240), (652570, 96318), (1200961, 606), (956669, 51562), (58135, 4362), (757804, 95333), (58135, 95933), (743388, 43428), (426926, 2745), (512280, 43556), (165618, 96584), (956669, 43052), (279452, 100779), (771431, 10672), (125883, 60284), (652570, 43606), (1201295, 96200), (390353, 43518), (1073342, 43292), (125462, 43113), (1117512, 8000), (877426, 55340), (165618, 42933), (652570, 49096), (1201103, 95333), (1102867, 50058), (939245, 95444), (22759, 98353), (239871, 53588), (533414, 100542), (58135, 43571), (365071, 60250), (1007279, 49572), (956669, 53214), (58135, 8000), (58135, 43463), (493152, 53357), (845125, 51268), (1102867, 43884), (365071, 55123), (939245, 99887), (1200961, 43211), (1201103, 96514), (261279, 56018), (1073342, 4701), (956669, 56260), (27153, 51552), (956669, 1549), (390353, 60217), (956669, 103966), (791603, 45797), (652570, 44211), (261279, 44354), (1102867, 95912), (721138, 43673), (652570, 95889), (279452, 47612), (956669, 1670), (771431, 59922), (1007279, 47491), (390353, 53922), (165618, 56370), (125883, 8056), (58135, 96780), (1200961, 96178), (815745, 8056), (261279, 1320), (365712, 95412), (1117512, 95867), (390353, 2028), (493152, 5088), (58135, 95625), (956669, 99899), (939245, 60249), (639998, 8101), (639998, 95471), (757804, 48837), (58135, 100176), (771431, 99949), (58135, 5114), (956669, 102006), (939245, 96062), (956669, 51496), (1007279, 103962), (939245, 43108), (970622, 60219), (639998, 62115), (533414, 44234), (1092996, 44330), (669512, 96386), (1007279, 43774), (426926, 50974), (58135, 42913), (512280, 43261), (939245, 5551), (165618, 43793), (390353, 55345), (458094, 43775), (956669, 50570), (638025, 101630), (279452, 101881), (58135, 43263), (652570, 95447), (188455, 96193), (533414, 54864), (1102867, 103993), (279452, 102002), (274676, 104216), (652570, 45997), (652570, 45768), (1200961, 101226), (533414, 103859), (1102867, 48127), (395248, 56074), (771431, 10740), (365071, 44319), (58135, 104753), (58135, 96122), (279452, 95599), (218221, 96662), (970622, 49749), (669512, 54654), (58135, 96243), (493152, 48982), (757804, 3964), (1200961, 2205), (165618, 100506), (721138, 96332), (749894, 45769), (426926, 5162), (1201295, 100940), (140844, 95710), (1200961, 57495), (913001, 43738), (721138, 4882), (1092996, 59995), (1092996, 57780), (1007279, 43224), (261279, 50825), (1200961, 100542), (1092996, 96626), (956669, 96558), (1201103, 43736), (58135, 95438), (281883, 60277), (1102867, 4288), (1073342, 8031), (1102867, 43952), (939245, 95754), (218221, 95978), (1102867, 42905), (956669, 96450), (913001, 52611), (1007279, 102836), (1200961, 55522), (27153, 3096), (52797, 43884), (939245, 3028), (1073342, 97737), (429177, 45336), (1201295, 103289), (508200, 95353), (339981, 103355), (1102867, 3254), (646087, 43376), (27153, 100157), (1092996, 102358), (1201295, 100148), (827287, 96662), (426926, 43445), (165618, 49096), (58135, 42968), (390353, 1278), (274676, 95398), (140844, 96207), (261279, 8046), (1007279, 54567), (274676, 10135), (493152, 101507), (733434, 43445), (652570, 440), (724868, 96051), (1200961, 54730), (58135, 57089), (58135, 52888), (970622, 60287), (125883, 62380), (1007279, 103212), (125883, 49548), (724868, 2386), (84, 53588), (639998, 4210), (365712, 60151), (395248, 48195), (429177, 8034), (639998, 55888), (970622, 63791), (58135, 45317), (533414, 43376), (533414, 3254), (845125, 43323), (165618, 96707), (218221, 43642), (652570, 16668), (652570, 96454), (646087, 8060), (885334, 10135), (218221, 59857), (1092996, 96318), (652570, 55743), (261279, 43054), (935601, 6275), (399035, 43871), (218221, 96717), (1200961, 54864), (512280, 99908), (1056591, 4797), (279452, 52499), (956669, 101619), (533414, 47819), (390353, 96487), (1102867, 56826), (580709, 43453), (1200961, 96046), (845125, 43915), (669512, 53783), (165618, 50761), (192779, 43510), (845125, 102009), (1092996, 97728), (757804, 100141), (365071, 61541), (58135, 96540), (1200961, 47643), (939245, 96627), (845125, 49405), (165618, 100574), (939245, 100131), (218221, 43200), (390353, 101401), (165618, 103849), (218789, 62380), (956669, 7980), (845125, 100157), (770638, 3254), (639998, 43903), (218221, 102691), (1200961, 100731), (429177, 96022), (1007279, 95320), (1073342, 95469), (125883, 59857), (165618, 49030), (873863, 3574), (365071, 96670), (1102867, 43323), (130054, 98220), (493152, 53735), (58135, 43023), (464319, 50764), (261279, 95350), (239871, 96545), (956669, 54881), (624547, 43059), (939245, 2399), (956669, 100143), (956669, 60250), (58135, 44312), (261279, 96639), (771431, 48286), (218221, 103993), (365071, 43958), (431136, 42985), (1201103, 96195), (365071, 55743), (845125, 49673), (365071, 42911), (956669, 53726), (956669, 45324), (1102867, 96411), (390353, 103763), (365071, 48280), (218221, 53375), (770638, 8060), (58135, 1278), (771431, 7696), (652570, 49032), (165618, 54883), (1102867, 96532), (721138, 4400), (431136, 47657), (464319, 3542), (624547, 9945), (395248, 43123), (652570, 104093), (1117512, 95656), (261279, 49525), (1201103, 7791), (652570, 103046), (646087, 96653), (1201295, 51008), (58135, 47829), (261279, 55833), (165618, 103420), (733434, 95891), (757804, 59953), (165618, 100158), (749894, 56267), (1200961, 3254), (652570, 42979), (1102867, 103082), (885334, 100956), (939245, 97729), (652570, 1810), (1073342, 95390), (1102867, 42894), (1201295, 96741), (757804, 44209), (218221, 52583), (1102867, 48492), (140844, 56987), (58135, 96487), (771431, 50180), (1117512, 60219), (1092996, 43903), (956669, 3713), (1092996, 4949), (165618, 96320), (464319, 3918), (58135, 95790), (743388, 53673), (279452, 103669), (639998, 56561), (639998, 96454), (125883, 8005), (956669, 4773), (464319, 104241), (390353, 50838), (721138, 60187), (956669, 3955), (939245, 44091), (1102867, 44196), (1200961, 96706), (165618, 52239), (125462, 43788), (1073342, 59953), (1073342, 55752), (502896, 57557), (652570, 96309), (1102867, 49565), (125462, 101882), (140844, 96196), (624547, 95718), (1200961, 95430), (218221, 51081), (885334, 43009), (58135, 49494), (483531, 42960), (165618, 56561), (652570, 47677), (1200961, 53672), (968238, 48838), (1200961, 43765), (365071, 101168), (365071, 52415), (956669, 44211), (1007279, 98892), (956669, 43982), (970622, 44303), (390353, 47710), (757804, 43430), (1200961, 43886), (261279, 50506), (939245, 95314), (483531, 4477), (27153, 96321), (218221, 95309), (58135, 43441), (845125, 54279), (757804, 96505), (138128, 2903), (652570, 53288), (218221, 8060), (58135, 48810), (939245, 57757), (365071, 4362), (1200961, 102330), (140844, 8034), (885334, 49909), (1102867, 97755), (639998, 61488), (652570, 684), (906953, 43878), (1092996, 95381), (125462, 95842), (390353, 4797), (743388, 100829), (721138, 9945), (58135, 96408), (733434, 96764), (58135, 47884), (1092996, 96320), (1102867, 51338), (845125, 96400), (652570, 99839), (757804, 43793), (1102867, 96600), (165618, 47488), (58135, 43575), (1201103, 43780), (390353, 50180), (58135, 104113), (757804, 43914), (464319, 100779), (261279, 53915), (620746, 60256), (390353, 43885), (757804, 100143), (939245, 100120), (771431, 50235), (774984, 61488), (1056591, 5162), (1092996, 57729), (1073342, 43551), (165618, 96375), (165618, 43421), (1201295, 42916), (1092996, 48280), (261279, 98251), (165618, 96496), (125883, 8060), (261279, 96386), (1117512, 95979), (956669, 43903), (239871, 48828), (743388, 49419), (1073342, 8101), (360171, 47354), (1102867, 57204), (395248, 96642), (956669, 60239), (939245, 47650), (165618, 3662), (721138, 44040), (1073342, 62115), (261279, 96399), (58135, 7333), (1092996, 53783), (939245, 43341), (721138, 6483), (493152, 96195), (956669, 54883), (503195, 3964), (1073342, 103526), (970622, 59405), (845125, 96321), (58135, 43146), (652570, 53222), (757804, 57714), (693120, 47647), (939245, 100738), (939245, 51985), (218221, 43807), (362142, 1955), (757804, 7096), (652570, 3772), (390353, 2745), (652570, 55450), (1201295, 43534), (771431, 50974), (279452, 50449), (956669, 101555), (165618, 100147), (165618, 95946), (165618, 49408), (125462, 101495), (1092996, 7958), (939245, 3932), (638025, 43903), (1102867, 43701), (970622, 43445), (1200961, 95982), (125883, 47524), (464319, 101881), (1007279, 60248), (239871, 50385), (218221, 43941), (958462, 60257), (165618, 57234), (1201295, 43668), (502896, 49949), (58135, 4797), (652570, 10672), (939245, 97731), (390353, 5215), (1102867, 49312), (165618, 100631), (956669, 95394), (1187775, 43929), (1201103, 102063), (956669, 97730), (939245, 95758), (58135, 56946), (1200961, 43741), (652570, 96069), (1091373, 56206), (1073342, 96573), (639998, 96456), (1102867, 2198), (125883, 8007), (125883, 43699), (652570, 49881), (279452, 7791), (757804, 50761), (956669, 48280), (1124810, 57354), (58135, 47389), (873863, 56585), (130054, 59431), (624547, 44042), (749894, 44042), (1200961, 43754), (429177, 47447), (165618, 684), (757804, 96373), (502896, 43909), (1102867, 44319), (1201295, 100152), (165618, 6053), (721138, 44216), (693120, 52600), (165618, 99839), (639998, 56926), (1092996, 43113), (165618, 96577), (1117512, 8101), (721138, 43290), (1092996, 98403), (365071, 95922), (757804, 96386), (365071, 5290), (845125, 3421), (749894, 44176), (1200961, 43888), (733434, 51262), (130054, 96654), (140844, 52467), (1092996, 4509), (125883, 62384), (873863, 5162), (339981, 43534), (771431, 96170), (140844, 5111), (165618, 44094), (956669, 61488), (365712, 61552), (1007279, 103337), (1200961, 95916), (1200961, 43191), (652570, 102164), (58135, 43564), (1092996, 96201), (885334, 57495), (512280, 51496), (1102867, 43756), (970622, 5593), (279452, 4087), (140844, 43849), (639998, 57410), (757804, 44024), (652570, 42915), (939245, 8080), (939245, 43772), (721138, 96499), (624547, 8029), (1201295, 47924), (165618, 2120), (218221, 44117), (1201103, 99890), (512280, 51509), (365071, 57452), (1102867, 43998), (652570, 10498), (165618, 58228), (638025, 47354), (1073342, 95447), (652570, 95882), (390353, 44116), (1201295, 96569), (956669, 45757), (956669, 55327), (1200961, 96400), (749894, 43734), (58135, 3926), (261279, 5514), (1092996, 5235), (845125, 49409), (365071, 96311), (771431, 45928), (239871, 55354), (771431, 55498), (652570, 94848), (757804, 50816), (1117512, 53873), (58135, 95739), (757804, 51984), (533414, 96723), (533414, 43998), (771431, 54572), (913001, 57113), (956669, 43797), (261279, 51368), (721138, 44042), (81819, 46008), (165618, 60001), (956669, 101073), (721138, 60257), (58135, 49443), (757804, 56427), (274676, 7858), (757804, 96320), (261279, 51260), (1073342, 44037), (390353, 43445), (293553, 95714), (165618, 43907), (431136, 100252), (1201295, 59388), (508200, 49466), (218221, 96642), (638025, 96496), (956669, 49408), (652570, 3882), (652570, 43775), (533414, 96039), (1185145, 49081), (365071, 3251), (757804, 43608), (502896, 96005), (1092996, 57410), (218221, 45795), (956669, 57113), (1056591, 47890), (218221, 43701), (639998, 96190), (913001, 53288), (1200961, 53984), (1056591, 43810), (1073342, 5567), (939245, 97720), (1073342, 43245), (165618, 96069), (652570, 4016), (1200961, 96213), (815745, 43554), (757804, 61233), (939245, 101103), (913001, 6053), (1200961, 333), (261279, 57234), (390353, 49419), (390353, 95849), (165618, 96311), (956669, 57597), (970622, 57689), (652570, 96058), (939245, 44190), (140844, 3098), (771431, 57647), (771431, 51231), (218221, 96092), (1102867, 47449), (639998, 95398), (58135, 100103), (58135, 57766), (1073342, 96454), (218221, 2198), (639998, 10135), (757804, 47488), (1201295, 55926), (239871, 100442), (744355, 95867), (956669, 684), (757804, 61488), (1102867, 5462), (652570, 96071), (652570, 45561), (365071, 43762), (512280, 49833), (58135, 5162), (365071, 5037), (1200961, 96589), (218221, 7688), (218221, 43380), (58135, 60223), (1007279, 96547), (274676, 8021), (757804, 49716), (1102867, 102752), (261279, 96456), (125462, 95699), (362142, 100094), (639998, 43036), (126922, 96589), (1201295, 56060), (992975, 8080), (1073342, 95999), (639998, 3035), (58135, 95928), (279452, 95405), (274676, 8034), (165618, 43854), (1201295, 45335), (721138, 47722), (279452, 101942), (503195, 100143), (508200, 100152), (639998, 10740), (939245, 43640), (390353, 42695), (885334, 43376), (62023, 62380), (1073342, 61488), (771431, 102588), (279452, 102063), (58135, 43445), (652570, 55507), (390353, 48064), (669512, 95413), (1201295, 47792), (140844, 96684), (125462, 95954), (580709, 43554), (939245, 55546), (1200961, 95918), (867901, 10672), (845125, 43787), (165618, 52848), (1102867, 43758), (125462, 45336), (1092996, 96553), (81819, 3513), (652570, 95871), (771431, 96185), (390353, 54493), (646087, 2818), (721138, 49024), (165618, 244), (502896, 49885), (865352, 7919), (624547, 8031), (58135, 56640), (1092996, 96674), (1102867, 57879), (1200961, 43435), (1102867, 55664), (771431, 56413), (652570, 55870), (140844, 60187), (261279, 49597), (939245, 96620), (1201103, 102107), (652570, 100314), (165618, 101506), (757804, 44039), (125462, 47914), (1200961, 43677), (261279, 96148), (110576, 42894), (652570, 43280), (956669, 96390), (218221, 54978), (58135, 49419), (390353, 42963), (1102867, 60457), (27153, 100205), (956669, 47987), (58135, 95849), (426926, 57372), (744355, 44136), (964312, 96783), (956669, 95693), (652570, 50756), (639998, 1909), (935601, 7933), (1200961, 96644), (165618, 43546), (652570, 96018), (757804, 48832), (757804, 79), (771431, 60280), (165618, 103037), (956669, 104216), (721138, 2044), (1102867, 43437), (365712, 96588), (58135, 43137), (140844, 51114), (639998, 44030), (1007279, 95676), (218221, 43448), (1102867, 47759), (1117512, 56561), (1117512, 96454), (646087, 47759), (652570, 43535), (165618, 49386), (956669, 10672), (1200961, 95839), (274676, 43552), (939245, 51976), (390353, 43447), (261279, 96753), (1102867, 43450), (165618, 95587), (279452, 101997), (1102867, 524), (281883, 7989), (956669, 43223), (429177, 49853), (639998, 100151), (1102867, 43800), (431136, 47650), (365071, 2085), (218221, 95368), (639998, 61655), (956669, 100270), (652570, 42730), (1073342, 95959), (1102867, 8000), (827287, 96039), (1200961, 60281), (1102867, 95599), (652570, 59884), (956669, 49881), (1201295, 56370), (939245, 8016), (395248, 2068), (652570, 54636), (845125, 48982), (958462, 60248), (885334, 43673), (885334, 43444), (1003282, 9466), (646087, 60257), (1102867, 51397), (693120, 43463), (533414, 47759), (771431, 96240), (652570, 51603), (771431, 43515), (970622, 4603), (970622, 173), (956669, 48726), (58135, 96359), (218221, 5099), (970622, 51262), (1102867, 4980), (140844, 9503), (1092996, 104084), (1102867, 96780), (390353, 100160), (652570, 4139), (1201103, 100886), (885334, 104224), (646087, 9760), (693120, 104014), (58135, 95433), (939245, 53870), (956669, 48968), (58135, 54493), (390353, 60280), (939245, 60178), (958462, 8007), (82397, 96418), (939245, 42916), (125883, 43461), (652570, 54073), (426926, 1319), (458094, 7999), (58135, 104306), (956669, 99949), (365071, 2703), (1092996, 44030), (261279, 43720), (956669, 1854), (1092996, 49399), (390353, 47690), (279452, 440), (533414, 96780), (652570, 60731), (1102867, 7800), (165618, 102045), (913001, 94848), (693120, 95867), (968238, 7999), (1185145, 50761), (770638, 47759), (956669, 43036), (970622, 104484), (58135, 52762), (1102867, 50029), (1102867, 47814), (125462, 102117), (125462, 95701), (533414, 56190), (1102867, 48982), (365071, 102100), (390353, 96456), (724868, 102691), (365071, 3066), (27153, 50823), (970622, 60282), (261279, 56915), (165618, 42917), (218221, 95302), (110576, 4371), (939245, 47722), (279452, 48280), (125883, 60281), (646087, 43855), (126922, 56940), (58135, 96051), (274676, 43849), (261279, 3035), (390353, 43515), (939245, 43642), (1200961, 48551), (1092996, 4742), (165618, 100314), (771431, 4603), (365071, 46), (58135, 54064), (58135, 43447), (939245, 96488), (261279, 43049), (58135, 101541), (757804, 60001), (757804, 99894), (165618, 43280), (1102867, 101962), (218221, 2818), (218221, 43879), (390353, 99865), (956669, 101506), (939245, 95562), (646087, 43989), (165618, 47373), (261279, 100446), (429177, 2915), (956669, 102674), (845125, 1573), (1007279, 96228), (239871, 100136), (239871, 60243), (126922, 51008), (82397, 47936), (239871, 43210), (58135, 43810), (274676, 50520), (1201295, 96681), (939245, 44126), (1102867, 2123), (1102867, 44002), (365071, 55241), (165618, 96368), (652570, 44208), (1007279, 57395), (733434, 55133), (791603, 62009), (261279, 102674), (1007279, 44334), (279452, 49595), (771431, 8012), (620746, 49645), (956669, 43546), (512280, 49648), (652570, 94839), (165618, 96489), (508200, 53403), (165618, 54381), (939245, 43200), (1200961, 43450), (652570, 43282), (939245, 49508), (1124810, 96017), (239871, 57344), (261279, 1438), (58135, 95851), (956669, 43788), (652570, 44342), (956669, 49386), (939245, 47414), (1200961, 43921), (62023, 8060), (1117512, 96214), (652570, 43524), (1117512, 47690), (125462, 4774), (165618, 42730), (1117512, 43260), (279452, 55327), (639998, 43911), (827287, 56940), (165618, 43898), (1073342, 60243), (218221, 47759), (1044118, 95654), (1056591, 44256), (1117512, 96456), (165618, 51603), (652570, 43537), (140844, 7961), (58135, 96214), (652570, 57766), (939245, 100731), (261279, 95587), (81819, 52778), (1200961, 48256), (261279, 100956), (757804, 48968), (1117512, 48053), (1007279, 103383), (218221, 95478), (1200961, 1129), (609818, 43885), (733434, 6059), (218221, 43921), (1200961, 44176), (165618, 95710), (1200961, 56190), (1102867, 95480), (652570, 99887), (58135, 43273), (757804, 99949), (279452, 43918), (693120, 96298), (1092996, 96489), (956669, 47668), (956669, 3574), (1200961, 43142), (58135, 43515), (639998, 48838), (956669, 96313), (1201295, 96386), (693120, 49063), (638025, 4016), (721138, 96558), (1201103, 4766), (913001, 2903), (1092996, 96502), (652570, 60128), (165618, 61549), (279452, 1005), (218221, 57008), (845125, 53656), (125462, 96145), (1201103, 2901), (239871, 1278), (1117512, 42952), (365071, 95310), (165618, 96315), (426926, 56369), (1073342, 95398), (1102867, 49547), (624547, 60237), (652570, 96062), (390353, 44296), (1201103, 43854), (652570, 43108), (508200, 43780), (956669, 8030), (48144, 42863), (956669, 55507), (939245, 49563), (939245, 43147), (693120, 96674), (365071, 96370), (390353, 4524), (693120, 53748), (609818, 96181), (1201295, 43916), (58135, 42952), (390353, 100296), (939245, 5590), (58135, 94859), (956669, 2903), (791603, 104306), (218221, 7800), (1102867, 45359), (533414, 53735), (1102867, 48742), (639998, 96691), (261279, 95400), (1102867, 44312), (1044118, 95938), (652570, 56303), (771431, 4121), (956669, 48286), (279452, 102041), (224067, 45369), (733434, 103859), (279452, 96564), (1102867, 1278), (652570, 47793), (365071, 60223), (1102867, 48755), (652570, 4867), (261279, 42917), (1092996, 1119), (165618, 6059), (274676, 97731), (1102867, 43736), (652570, 54559), (279452, 99839), (639998, 52731), (281883, 8046), (970622, 44190), (1091373, 95421), (130054, 2753), (956669, 43280), (760122, 96630), (429177, 8031), (464319, 47686), (365071, 44250), (956669, 55065), (58135, 43557), (757804, 103037), (1102867, 4903), (165618, 103349), (939245, 96598), (218221, 52499), (1073342, 96245), (1200961, 44123), (757804, 100004), (652570, 50371), (956669, 101495), (165618, 49577), (239871, 49494), (362142, 43306), (1201295, 96320), (757804, 43788), (939245, 43765), (274676, 60187), (1007279, 43263), (757804, 102111), (261279, 55065), (1117512, 60256), (165618, 101605), (646087, 51683), (956669, 96368), (125462, 58401), (1200961, 96043), (652570, 51552), (939245, 96732), (845125, 51496), (956669, 95442), (652570, 44089), (239871, 47413), (58135, 43812), (885334, 60187), (140844, 95883), (274676, 44106), (1201103, 1909), (261279, 59400), (1102867, 100341), (1102867, 47387), (140844, 47709), (956669, 96502), (508200, 43606), (218221, 44244), (580709, 60257), (431136, 104083), (639998, 99887), (693120, 3882), (665876, 4719), (165618, 57766), (239871, 103763), (652570, 47714), (1201295, 61233), (1200961, 55695), (1102867, 101401), (845125, 56060), (533414, 715), (125883, 96593), (693120, 56957), (218221, 96043), (1102867, 47629), (770638, 44312), (956669, 54636), (1200961, 95480), (58135, 95853), (274676, 9945), (390353, 47747), (639998, 43792), (721138, 54881), (939245, 43444), (1007279, 99868), (1102867, 56381), (239871, 3574), (260996, 43344), (721138, 60250), (1201295, 48643), (58135, 60282), (956669, 43911), (1073342, 44030), (1102867, 50086), (1073342, 95708), (58135, 44188), (125462, 95758), (760122, 43489), (827287, 96017), (1091373, 43677), (58135, 100296), (58135, 95866), (218221, 7989), (693120, 44259), (390353, 103868), (1007279, 5048), (639998, 60249), (939245, 95364), (652570, 43768), (939245, 55242), (1117512, 3611), (652570, 99876), (757804, 43830), (652570, 103030), (646087, 96408), (261279, 44032), (1102867, 102006), (693120, 96058), (721138, 43580), (27153, 96613), (125462, 49583), (1200961, 53977), (58135, 96229), (58135, 8041), (1007279, 2028), (693120, 95361), (395248, 54087), (757804, 49441), (956669, 55133), (261279, 44045), (390353, 2753), (1007279, 103398), (939245, 2880), (464319, 101876), (261279, 54073), (140844, 53588), (261279, 42998), (58135, 95303), (58135, 48994), (52797, 96353), (165618, 95954), (652570, 100131), (771431, 8056), (1200961, 101696), (58135, 95424), (652570, 56976), (652570, 55929), (140844, 5535), (218221, 57239), (1201295, 52415), (125462, 4576), (1044118, 96503), (639998, 8021), (426926, 102559), (1102867, 60274), (770638, 56957), (652570, 3096), (502896, 49957), (757804, 43280), (721138, 3955), (1102867, 95858), (279452, 96311), (624547, 60239), (165618, 101915), (1102867, 59348), (1056591, 49548), (1102867, 44301), (365071, 95433), (652570, 48708), (913001, 100087), (956669, 53523), (192779, 55710), (1007279, 49063), (218221, 45359), (757804, 101495), (1073342, 7333), (218221, 44312), (58135, 42954), (279452, 49076), (646087, 50838), (639998, 48048), (239871, 96247), (1073342, 100072), (502896, 8212), (390353, 49909), (365071, 42950), (939245, 43391), (426926, 96398), (693120, 2085), (939245, 44330), (1007279, 96553), (1200961, 715), (757804, 96489), (140844, 53388), (218221, 43736), (970622, 62380), (1102867, 45603), (279452, 2901), (956669, 49577), (1201295, 43463), (218221, 43857), (774984, 56787), (62023, 52574), (771431, 2379), (140844, 43831), (743388, 102799), (1124810, 101927), (1102867, 104047), (652570, 100991), (956669, 101605), (757804, 95455), (165618, 95996), (110576, 43450), (1007279, 50607), (218221, 42931), (140844, 95630), (261279, 49577), (390353, 8056), (533414, 48744), (1102867, 100088), (646087, 100088), (1102867, 42933), (365071, 100252), (771431, 7761), (293553, 98353), (968238, 62380), (165618, 50747), (58135, 103989), (624547, 8024), (669512, 44091), (58135, 43801), (743388, 43792), (274676, 43048), (261279, 44342), (652570, 43970), (58135, 96418), (1092996, 96788), (1007279, 48755), (261279, 96020), (261279, 47725), (827287, 55629), (192779, 8046), (279452, 55184), (58135, 2753), (1102867, 4221), (791603, 7999), (1102867, 47268), (1117512, 60271), (744355, 60452), (426926, 96090), (279452, 56244), (1102867, 5281), (858056, 5162), (757804, 47657), (464319, 53783), (274676, 44350), (390353, 48675), (58135, 60271), (58135, 43009), (165618, 103030), (1102867, 52061), (625472, 47819), (749894, 97756), (939245, 4371), (126922, 96408), (757804, 8006), (609818, 95312), (1102867, 56383), (638025, 47725), (771431, 95978), (218221, 286), (58135, 43022), (140844, 53214), (956669, 60128), (218221, 45777), (693120, 44140), (939245, 59782), (1200961, 7307), (365071, 100173), (365071, 60280), (639998, 4372), (1092996, 1176), (365071, 43018), (218221, 1804), (733434, 95406), (464319, 100576), (390353, 103870), (218221, 102006), (63776, 43447), (760122, 99949), (58135, 49909), (360171, 57513), (760122, 53411), (652570, 57770), (390353, 52313), (771431, 47467), (956669, 43108), (791603, 47463), (279452, 43909), (1200961, 60274), (261279, 42987), (429177, 48102), (885334, 43437), (390353, 96649), (58135, 95413), (274676, 60244), (1102867, 96652), (757804, 100182), (62023, 48562), (464319, 1676), (845125, 101003), (639998, 61782), (395248, 55257), (885334, 99895), (261279, 5551), (757804, 100074), (652570, 100133), (652570, 95703), (845125, 43969), (757804, 50503), (956669, 1484), (533414, 95471), (58135, 54486), (757804, 103349), (845125, 50506), (580709, 4903), (956669, 54559), (815745, 101885), (956669, 8021), (1201295, 43786), (431136, 96664), (652570, 52898), (652570, 173), (958462, 8000), (125883, 7991), (1200961, 8154), (1200961, 47818), (1073342, 8032), (721138, 48280), (279452, 96313), (624547, 60241), (293553, 55629), (1102867, 47686), (365071, 52509), (652570, 43462), (399035, 4529), (1201295, 10672), (939245, 44319), (1201103, 49577), (956669, 60062), (757804, 47725), (652570, 100738), (1200961, 1643), (165618, 101930), (140844, 8007), (1200961, 100088), (913001, 44223), (721138, 43045), (58135, 43306), (1102867, 47699), (261279, 96572), (261279, 48048), (939245, 2453), (956669, 44089), (1200961, 43054), (1102867, 49096), (365071, 98013), (58135, 1319), (801923, 95906), (1092996, 47769), (956669, 95996), (771431, 42971), (721138, 48764), (274676, 104030), (165618, 102172), (939245, 95421), (1102867, 48988), (1073342, 52731), (939245, 96589), (885334, 53049), (1200961, 47268), (771431, 5535), (1007279, 100180), (1092996, 101675), (1102867, 96586), (390353, 101952), (125462, 60257), (125883, 60287), (609818, 60280), (652570, 54805), (493152, 96502), (1117512, 96649), (390353, 42932), (956669, 6666), (757804, 101176), (757804, 4128), (126922, 7725), (652570, 48510), (493152, 96623), (733434, 103300), (218221, 42946), (652570, 95758), (1117512, 95723), (365071, 43449), (218221, 4221), (652570, 6523), (877426, 100137), (1102867, 100103), (771431, 47898), (652570, 101477), (1007279, 47710), (503195, 103897), (757804, 60249), (757804, 95941), (1201295, 99949), (125883, 8046), (620746, 6483), (1102867, 47499), (464319, 55758), (939245, 50777), (693120, 100103), (22759, 5162), (721138, 5288), (165618, 2588), (693120, 42948), (218221, 44356), (58135, 42998), (757804, 96062), (1102867, 2129), (956669, 51473), (1102867, 3297), (130054, 3254), (1102867, 59405), (1201103, 53941), (426926, 96213), (390353, 48677), (1200961, 62115), (218221, 95337), (693120, 49606), (58135, 95736), (1102867, 57311), (733434, 96321), (126922, 43793), (1200961, 2745), (1044118, 52600), (483531, 45337), (1092996, 55166), (1092996, 57152), (646087, 96386), (639998, 2964), (624547, 43276), (130054, 47819), (533414, 95902), (939245, 47649), (165618, 43783), (390353, 103859), (533414, 44116), (956669, 56976), (365071, 43946), (165618, 2843), (58135, 95978), (58135, 53870), (218221, 51027), (274676, 96501), (1007279, 43885), (58135, 101347), (218221, 8101), (125883, 43885), (1073342, 60249), (1201103, 57458), (279452, 96623), (721138, 96067), (956669, 4372), (58135, 56206), (1025221, 60227), (365071, 47450), (58135, 101468), (1073342, 96062), (279452, 54636), (693120, 43445), (757804, 96788), (956669, 43339), (721138, 4509), (58135, 48864), (125462, 47480), (956669, 48708), (58135, 100542), (757804, 54572), (1201295, 49949), (970622, 43552), (239871, 43137), (58135, 43737), (1007279, 46), (365071, 1275), (665876, 43477), (279452, 50569), (956669, 61782), (956669, 101675), (165618, 100267), (1200961, 43485), (1102867, 51513), (390353, 101202), (464319, 55571), (652570, 49504), (652570, 44256), (1102867, 100158), (1102867, 895), (652570, 42980), (771431, 95430), (757804, 95996), (1102867, 44171), (165618, 100738), (652570, 49517), (1201295, 1909), (390353, 56074), (939245, 5462), (1102867, 95970), (533414, 44037), (125883, 62115), (757804, 50747), (939245, 54925), (165618, 96321), (652570, 6483), (279452, 96315), (58135, 43884), (1102867, 43137), (757804, 54251), (624547, 10672), (165618, 56549), (390353, 5577), (493152, 52731), (1102867, 62735), (1007279, 7188), (58135, 44234), (58135, 4341), (652570, 47665), (885334, 95843), (165618, 96792), (757804, 43526), (390353, 43376), (956669, 51433), (639998, 95758), (638025, 61782), (218221, 4773), (956669, 100078), (27153, 48832), (1102867, 56561), (218221, 45834), (58135, 48677), (639998, 60187), (261279, 96574), (439900, 53806), (218221, 97741), (1200961, 53673), (224067, 100315), (274676, 8031), (956669, 100199), (652570, 102968), (1200961, 100103), (845125, 96496), (757804, 103030), (239871, 96614), (1200961, 50761), (652570, 96673), (165618, 45369), (58135, 100597), (58135, 43442), (939245, 103128), (365071, 51719), (1201295, 96313), (652570, 96794), (1102867, 48064), (760122, 43911), (885334, 8031), (218221, 95660), (939245, 2818), (1102867, 97756), (652570, 100177), (224067, 8060), (956669, 56468), (956669, 481), (165618, 43167), (1007279, 44316), (58135, 103993), (939245, 43771), (624547, 60982), (125462, 43468), (192779, 4775), (27153, 6053), (1102867, 49474), (390353, 56826), (140844, 95876), (757804, 44144), (956669, 54266), (58135, 95483), (365071, 59666), (165618, 96363), (464319, 43854), (261279, 44346), (218221, 98238), (1102867, 100105), (1102867, 53796), (620746, 60257), (365071, 3679), (1091373, 5508), (1073342, 103030), (58135, 95604), (970622, 43862), (956669, 95448), (1200961, 100829), (239871, 43447), (1102867, 49716), (279452, 43524), (165618, 55544), (652570, 5599), (365712, 8034), (757804, 56171), (992975, 43461), (771431, 96666), (483531, 44279), (956669, 56844), (646087, 43421), (390353, 263), (429177, 61488), (757804, 96185), (939245, 95933), (845125, 1005), (1200961, 43916), (639998, 60229), (1102867, 47743), (1201103, 100373), (58135, 43242), (939245, 96054), (873863, 96303), (939245, 47759), (165618, 43893), (218221, 45768), (58135, 4288), (1102867, 43434), (1073342, 42976), (1102867, 95341), (845125, 96309), (365071, 60271), (126922, 43916), (58135, 1255), (365071, 97720), (956669, 100133), (1201295, 43280), (639998, 9503), (365071, 44177), (1117512, 8034), (652570, 95439), (939245, 96525), (390353, 43673), (652570, 606), (390353, 3551), (1200961, 4157), (130054, 43862), (827287, 53915), (58135, 47806), (1102867, 51260), (652570, 103962), (652570, 55667), (126922, 51513), (970622, 47742), (970622, 7849), (956669, 59435), (693120, 43447), (639998, 296), (1185145, 56664), (733434, 49451), (58135, 4772), (110576, 8046), (279452, 44142), (652570, 8203), (464319, 43546), (1200961, 96199), (165618, 49517), (533414, 96388), (693120, 47769), (508200, 100446), (390353, 50223), (125462, 44220), (1092996, 99867), (970622, 43554), (652570, 44016), (390353, 5082), (1200961, 96320), (1073342, 61782), (845125, 100886), (774984, 9503), (939245, 48256), (1102867, 101086), (1117512, 56934), (218221, 100158), (939245, 3115), (1102867, 100268), (693120, 43810), (27153, 43786), (140844, 43206), (1029826, 8026), (771431, 95311), (218221, 95849), (1102867, 95959), (533414, 43797), (130054, 95916), (1201295, 50543), (1102867, 79), (646087, 4509), (165618, 96310), (1200961, 56561), (218221, 7782), (1102867, 45341), (1201295, 54636), (27153, 10672), (533414, 96764), (1102867, 43247), (365071, 43640), (533414, 95946), (274676, 8007), (757804, 43515), (652570, 4499), (939245, 7800), (939245, 43263), (1102867, 96322), (239871, 43515), (1200961, 43742), (720060, 60264), (464319, 100151), (652570, 96070), (165618, 97720), (956669, 54805), (125883, 62009), (652570, 7653), (771431, 43888), (956669, 50375), (733434, 96378), (261279, 95395), (757804, 96132), (365071, 9466), (652570, 50929), (757804, 43407), (939245, 45370), (58135, 44236), (1102867, 7797), (1102867, 43260), (646087, 8026), (58135, 102559), (130054, 95353), (956669, 102174), (218221, 96454), (827287, 44279), (1102867, 96335), (126922, 42695), (652570, 96541), (125883, 95728), (956669, 6523), (218221, 95407), (512280, 102799), (771431, 104439), (239871, 96603), (652570, 43708), (140844, 43824), (125883, 95849), (1200961, 5151), (1201103, 56468), (721138, 55184), (58135, 4477), (757804, 57770), (1003282, 43571), (652570, 48030), (390353, 7110), (1092996, 96418), (58135, 43552), (771431, 47526), (743388, 57772), (968238, 2882), (939245, 97761), (958462, 95871), (22759, 10267), (165618, 49572), (362142, 43301), (533414, 96214), (1185145, 5162), (493152, 99876), (390353, 56694), (1102867, 96590), (261279, 103355), (125883, 62735), (1200961, 43421), (1200961, 3528), (512280, 96638), (58135, 45780), (693120, 43515), (464319, 55507), (757804, 43904), (652570, 101347), (1003282, 43934), (239871, 5408), (58135, 96411), (1102867, 55771), (652570, 60178), (652570, 53762), (1092996, 43827), (27153, 102164), (192779, 96456), (81819, 95312), (693120, 95314), (58135, 95364), (125462, 54087), (58135, 96532), (58135, 54424), (58135, 50223), (827287, 2789), (1201103, 100120), (970622, 96697), (1102867, 43999), (956669, 95558), (218221, 96025), (1092996, 96794), (1102867, 49597), (125462, 101914), (390353, 44117), (395248, 56497), (1201295, 100182), (1200961, 96630), (1200961, 96401), (1092996, 50377), (140844, 56227), (165618, 95439), (165618, 606), (58135, 7310), (165618, 96378), (1200961, 43797), (27153, 47708), (390353, 49957), (970622, 44106), (508200, 7333), (1102867, 96269), (652570, 102891), (1092996, 44203), (956669, 101061), (774984, 55317), (82397, 56940), (218221, 104093), (1102867, 95343), (652570, 101965), (760122, 55498), (760122, 95391), (939245, 7989), (669512, 4701), (58135, 6626), (1102867, 47987), (639998, 60244), (639998, 100137), (1102867, 43557), (744355, 103868), (218221, 750), (652570, 4809), (165618, 8445), (464319, 100690), (1117512, 43849), (365071, 102394), (652570, 95562), (1185145, 8021), (652570, 43776), (431136, 59434), (274676, 60237), (939245, 101909), (774984, 8445), (165618, 51963), (125883, 9836), (693120, 49986), (652570, 9373), (1201103, 104134), (639998, 56527), (390353, 95716), (939245, 53735), (165618, 96178), (652570, 2139), (652570, 44018), (165618, 43224), (218221, 43113), (58135, 43741), (1044118, 54269), (1073342, 8012), (757804, 95758), (165618, 49990), (165618, 96070), (885334, 8101), (1200961, 7797), (261279, 54081), (652570, 7629), (165618, 55359), (771431, 62065), (281883, 56178), (1201295, 99887), (1102867, 49423), (464319, 53481), (1102867, 43007), (652570, 47643), (652570, 5535), (652570, 47414), (140844, 43329), (956669, 101921), (956669, 97720), (885334, 54881), (1200961, 96456), (1092996, 96741), (218221, 1139), (390353, 57354), (1201103, 48510), (125462, 612), (693120, 3114), (743388, 47478), (58135, 43057), (1102867, 44296), (1092996, 42969), (958462, 8006), (1102867, 104605), (970622, 95718), (1044118, 3075), (693120, 95853), (126922, 96456), (1007279, 96535), (956669, 100177), (390353, 96092), (1073342, 95866), (431084, 95325), (1012166, 52313), (58135, 43070), (956669, 42914), (62023, 8004), (1007279, 96548), (58135, 43191), (1102867, 4766), (1201295, 96062), (390353, 43380), (218221, 96456), (815745, 57113), (218221, 6053), (218221, 8039), (771431, 54978), (757804, 55544), (125883, 100160), (1200961, 100094), (1092996, 56285), (1102867, 6873), (652570, 53388), (1007279, 49542), (1102867, 3611), (646087, 8041), (771431, 43206), (165618, 2205), (126922, 42939), (956669, 55291), (125883, 60280), (1200961, 95906), (638025, 101103), (218221, 56926), (939245, 43870), (733434, 49508), (1201103, 55544), (1102867, 43975), (652570, 96677), (1201295, 101794), (877426, 57780), (939245, 715), (693120, 43396), (770638, 43812), (939245, 56823), (125462, 55123), (58135, 49044), (1102867, 52498), (757804, 60229), (426926, 2165), (939245, 99870), (1200961, 100578), (165618, 47709), (1102867, 2927), (1102867, 712), (140844, 44081), (721138, 43885), (1092996, 96783), (110576, 62009), (652570, 43147), (293553, 7958), (639998, 43763), (464319, 99845), (125462, 95379), (771431, 45797), (693120, 99867), (639998, 43884), (165618, 50058), (1200961, 47987), (774984, 60662), (279452, 56468), (1201103, 101061), (652570, 100315), (279452, 43407), (390353, 44119), (1102867, 101506), (533414, 95882), (652570, 101483), (757804, 96176), (533414, 3035), (1102867, 6444), (261279, 55317), (913001, 100137), (27153, 99375), (1201295, 55861), (125883, 10267), (261279, 96607), (1102867, 43304), (639998, 7266), (956669, 96620), (126922, 47987), (845125, 95950), (1102867, 2364), (390353, 9945), (749894, 50503), (827287, 44094), (1073342, 60229), (1044118, 95869), (1200961, 43799), (652570, 96356), (639998, 9373), (192779, 10740), (1200961, 42752), (533414, 42941), (165618, 61038), (1102867, 43546), (652570, 47724), (639998, 42971), (1102867, 55331), (224067, 60239), (771431, 60281), (1102867, 96392), (261279, 96741), (390353, 95342), (1073342, 9503), (652570, 50060), (261279, 44016), (652570, 43644), (1201295, 50747), (956669, 100366), (1201295, 47714), (1007279, 102093), (365071, 59228), (1007279, 42952), (431136, 95933), (442793, 5288), (1102867, 101882), (218221, 51262), (639998, 2273), (956669, 51963), (165618, 44139), (1073342, 56054), (58135, 333), (239871, 60271), (239871, 97720), (757804, 101103), (274676, 43903), (261279, 55814), (502896, 44209), (1201295, 43526), (1102867, 96526), (58135, 2669), (512280, 9433), (939245, 55710), (1200961, 56189), (1102867, 57801), (1102867, 49399), (652570, 97900), (1117512, 60187), (239871, 2190), (1201103, 97599), (693120, 296), (22759, 96418), (757804, 43022), (362142, 53049), (365071, 51081), (639998, 8005), (652570, 44249), (845125, 2903), (390353, 3100), (1102867, 95950), (365712, 4576), (1092996, 43884), (165618, 2286), (58135, 95421), (693120, 2753), (652570, 56973), (1102867, 95842), (885334, 60239), (652570, 95819), (1092996, 43776), (1117512, 43288), (939245, 43951), (956669, 1600), (261279, 95373), (956669, 104246), (165618, 47898), (58135, 100911), (165618, 43468), (1200961, 10135), (365071, 96356), (939245, 59348), (140844, 96056), (1200961, 57612), (165618, 48837), (365071, 97753), (1200961, 457), (757804, 96002), (1201103, 42914), (1092996, 54864), (165618, 97711), (827287, 10672), (970622, 60257), (646087, 3358), (956669, 43842), (1200961, 43746), (58135, 44119), (464319, 95954), (512280, 2588), (365071, 48195), (1117512, 3650), (733434, 96382), (58135, 43301), (1092996, 5535), (939245, 7696), (1200961, 52498), (239871, 43640), (693120, 44190), (1102867, 8030), (970622, 9760), (1044118, 47413), (744355, 57495), (956669, 44084), (1102867, 55507), (1102867, 51077), (652570, 4974), (390353, 7919), (1200961, 54834), (1007279, 49423), (1102867, 96339), (58135, 96039), (261279, 60178), (261279, 53762), (1044118, 43454), (845125, 96610), (58135, 43435), (58135, 3542), (720060, 51182), (939245, 59966), (261279, 4312), (218221, 3035), (757804, 96620), (771431, 47759), (1201295, 54319), (1201103, 606), (757804, 96741), (165618, 55174), (757804, 44016), (956669, 3628), (165618, 44328), (279452, 101477), (1007279, 49678), (639998, 8060), (365071, 55108), (939245, 49362), (82397, 8031), (218221, 51572), (757804, 8445), (939245, 4221), (652570, 102519), (771431, 8000), (165618, 95309), (641520, 4701), (771431, 95599), (231204, 49749), (1200961, 103037), (218221, 56244), (125883, 8041), (58135, 96765), (1185145, 60240), (58135, 44040), (939245, 101282), (1073342, 96499), (1117512, 103773), (1102867, 50648), (956669, 95562), (1201103, 42969), (652570, 96116), (1201103, 8445), (508200, 97727), (956669, 97898), (913001, 51615), (439900, 43813), (956669, 7266), (502896, 102037), (126922, 4713), (261279, 95562), (261279, 95333), (845125, 47428), (126922, 104097), (165618, 43886), (845125, 55241), (1102867, 43427), (125462, 53636), (757804, 56527), (1102867, 272), (1201295, 62521), (939245, 7980), (1102867, 96502), (360171, 8034), (639998, 95698), (939245, 95350), (771431, 44297), (126922, 44030), (801923, 102372), (365071, 43123), (624547, 8868), (956669, 95817), (165618, 2020), (218221, 43788), (293553, 42981), (638025, 43642), (652570, 96600), (845125, 48838), (956669, 61522), (760122, 102040), (1201295, 96240), (58135, 103678), (939245, 43456), (1102867, 47991), (757804, 95386), (165618, 100128), (885334, 43421), (956669, 2273), (1092996, 96356), (261279, 98032), (1201295, 56468), (82397, 44354), (165618, 47524), (1102867, 100019), (1092996, 8060), (624547, 95433), (165618, 103403), (956669, 5548), (970622, 47748), (439900, 96217), (873863, 60162), (239871, 62380), (58135, 96457), (652570, 59995), (1092996, 50060), (279452, 7517), (503195, 49583), (1073342, 56527), (1102867, 96649), (1102867, 50569), (757804, 95978), (239871, 95978), (27153, 48209), (426926, 43054), (279452, 49517), (390353, 44042), (956669, 47898), (721138, 4867), (1102867, 50461), (390353, 60257), (845125, 51429), (757804, 95870), (639998, 8007), (827287, 96621), (956669, 48837), (1102867, 95952), (1102867, 42998), (757804, 2205), (58135, 3034), (390353, 55948), (956669, 101912), (721138, 96788), (464319, 3901), (939245, 7551), (956669, 53388), (693120, 43816), (365071, 43741), (1117512, 43290), (58135, 95773), (261279, 48837), (956669, 555), (865352, 5294), (1200961, 51198), (516868, 8034), (390353, 56190), (165618, 43820), (693120, 96783), (1073342, 62380), (58135, 56940), (1200961, 43735), (218221, 3358), (652570, 96292), (464319, 95943), (58135, 96015), (639998, 62384), (771431, 101157), (733434, 51001), (365071, 96600), (390353, 53049), (939245, 8853), (939245, 44316), (1102867, 61683), (58135, 95907), (390353, 56432), (281883, 8021), (1102867, 96328), (464319, 56063), (939245, 4773), (62023, 62009), (390353, 8029), (757804, 43642), (390353, 7800), (956669, 49563), (1102867, 49911), (1201295, 59664), (771431, 44244), (939245, 50974), (365071, 98010), (281883, 8034), (483531, 43306), (1201295, 49986), (956669, 5590), (956669, 43039), (464319, 54319), (1200961, 45387), (1201103, 102891), (1200961, 2003), (165618, 102519), (721138, 3512), (390353, 96580), (493152, 606), (429177, 8032), (390353, 60070), (390353, 95762), (1117512, 96754), (624547, 8010), (639998, 43283), (956669, 50865), (165618, 47471), (365712, 50929), (58135, 47759), (845125, 96504), (956669, 96356), (1201103, 43763), (1102867, 54825), (1201103, 99871), (1092996, 4974), (1091373, 101141), (165618, 51793), (1117512, 43921), (1200961, 43535), (1102867, 42932), (771431, 1573), (956669, 8060), (1073342, 43642), (1117512, 44042), (58135, 96754), (1185145, 60229), (58135, 96525), (62023, 62735), (58135, 43800), (365071, 96400), (218221, 101495), (757804, 44139), (1007279, 47815), (1001561, 60244), (365071, 49044), (939245, 5162), (638025, 3254), (970622, 57736), (1092996, 50478), (1025221, 43741), (1102867, 5267), (1201103, 44126), (939245, 60452), (580709, 95708), (365071, 96642), (165618, 95432), (58135, 60257), (1102867, 4341), (1200961, 47991), (1073342, 7266), (365071, 52440), (845125, 51968), (58135, 1008), (1092996, 47458), (638025, 47711), (58135, 44284), (261279, 1549), (58135, 3115), (125462, 96564), (125462, 6161), (390353, 95333), (58135, 2068), (218221, 95455), (58135, 56190), (218221, 47870), (1102867, 7858), (1102867, 43550), (638025, 95430), (125883, 9466), (760122, 101921), (533414, 47725), (508200, 104508), (1092996, 43391), (1200961, 103415), (140844, 2703), (58135, 53049), (1102867, 50087), (390353, 95346), (165618, 102224), (365071, 4400), (845125, 47793), (218221, 52313), (218221, 43911), (582187, 47686), (939245, 95365), (771431, 44312), (239871, 2999), (58135, 8029), (165618, 59419), (390353, 1573), (1007279, 49493), (1073342, 9978), (390353, 42863), (1201295, 95316), (58135, 96567), (218221, 95710), (1007279, 48675), (58135, 50029), (62023, 96025), (58135, 47814), (757804, 98892), (1092996, 51338), (390353, 51615), (956669, 55242), (1102867, 60249), (365071, 56212), (771431, 57736), (652570, 96039), (771431, 47829), (1117512, 49466), (165618, 2398), (261279, 55242), (508200, 2588), (1056591, 54892), (970622, 101885), (261279, 98289), (939245, 1955), (956669, 101914), (390353, 53735), (390353, 49534), (939245, 49432), (956669, 2651), (58135, 52499), (721138, 60280), (493152, 42916), (885334, 10672), (1102867, 56074), (652570, 47649), (165618, 95379), (58135, 95896), (1092996, 104439), (165618, 52224), (744355, 96090), (652570, 100724), (365071, 103126), (274676, 49063), (431136, 100167), (165618, 99930), (1102867, 1255), (390353, 44299), (533414, 96062), (1200961, 2797), (970622, 54892), (1201103, 5590), (390353, 43481), (939245, 43379), (1200961, 50503), (279452, 1600), (1117512, 47856), (770638, 102691), (639998, 56909), (1092996, 47526), (939245, 96454), (757804, 8060), (125883, 50461), (638025, 96303), (652570, 45797), (58135, 51936), (757804, 96598), (239871, 96598), (1200961, 52731), (956669, 43149), (774984, 50130), (362142, 43283), (956669, 2209), (533414, 96196), (652570, 104241), (431136, 103684), (365712, 2044), (1092996, 96292), (58135, 43426), (1102867, 51081), (757804, 56826), (652570, 95381), (165618, 1969), (1073342, 54006), (624547, 7999), (939245, 42695), (771431, 56381), (279452, 101347), (1201295, 43464), (1044118, 47659), (757804, 95564), (939245, 97756), (365071, 50777), (1092996, 2519), (493152, 43763), (493152, 43534), (693120, 47819), (638025, 42894), (279452, 3252), (693120, 59833), (1073342, 96356), (757804, 53806), (165618, 100427), (261279, 44209), (624547, 8012), (693120, 43739), (1092996, 43701), (1102867, 96706), (1073342, 8060), (390353, 95656), (399035, 103470), (845125, 96627), (771431, 96408), (165618, 2453), (192779, 8034), (665876, 56482), (464319, 50375), (939245, 100105), (1092996, 2882), (939245, 53796), (939245, 47380), (939245, 3057), (939245, 842), (1102867, 1176), (1201295, 101103), (279452, 47480), (956669, 43646), (757804, 100249), (1092996, 42896), (125462, 96311), (1200961, 50195), (1007279, 100663), (743388, 47526), (165618, 100911), (22759, 44115), (1073342, 102330), (81819, 43884), (58135, 44165), (1073342, 42960), (58135, 49534), (365071, 95718), (1092996, 5581), (652570, 48764), (218221, 102799), (1007279, 102073), (845125, 57339), (62023, 10267), (165618, 99877), (956669, 44130), (58135, 43010), (956669, 102224), (956669, 60116), (1007279, 101965), (293553, 5294), (512280, 43708), (365071, 47436), (939245, 43447), (1117512, 8031), (261279, 102224), (58135, 3588), (1102867, 96627), (770638, 59833), (1007279, 958), (652570, 55664), (865352, 95433), (639998, 59434), (279452, 95696), (261279, 47526), (1102867, 56976), (365071, 103678), (1102867, 43915), (1102867, 102009), (218221, 3094), (956669, 96184), (1117512, 43039), (652570, 101168), (125462, 104755), (992975, 62735), (956669, 48828), (1185145, 62380), (279452, 47414), (693120, 104224), (1117512, 42931), (624547, 8080), (533414, 43673), (1007279, 100597), (261279, 48828), (165618, 96186), (939245, 45341), (757804, 43149), (693120, 96653), (218221, 45336), (771431, 96705), (873863, 63791), (956669, 43822), (1200961, 8034), (1200961, 47927), (1102867, 43123), (652570, 47759), (1025221, 1582), (744355, 96200), (1007279, 103993), (956669, 42896), (165618, 104241), (721138, 96095), (652570, 43450), (669512, 96188), (274676, 8004), (165618, 103194), (1073342, 62384), (218221, 47914), (639998, 60281), (1200961, 43739), (493152, 100315), (365071, 43758), (218221, 55498), (939245, 4535), (1200961, 3028), (1092996, 95931), (165618, 96670), (365071, 2818), (1102867, 60748), (638025, 96184), (158855, 62115), (1102867, 47687), (1201103, 44209), (429177, 61782), (1056591, 98425), (1102867, 4882), (165618, 103328), (939245, 96577), (646087, 4882), (365712, 49402), (218221, 8155), (1102867, 6050), (58135, 381), (261279, 54694), (192779, 61782), (279452, 43952), (360171, 43677), (58135, 96382), (964312, 43194), (1092996, 100724), (58135, 56260), (1200961, 1176), (365071, 5396), (140844, 895), (639998, 95999), (165618, 100416), (652570, 48256), (1102867, 97742), (652570, 60041), (757804, 96613), (390353, 43967), (1201295, 56527), (390353, 43738), (845125, 102093), (652570, 57008), (652570, 54564), (165618, 95878), (82397, 96320), (165618, 47354), (58135, 100596), (827287, 1484), (464319, 51182), (638025, 96789), (1102867, 44091), (1073342, 43633), (279452, 102638), (1200961, 3525), (652570, 49437), (885334, 95400), (165618, 48643), (261279, 2453), (261279, 44332), (58135, 1804), (1007279, 102638), (939245, 43999), (1092996, 5099), (1200961, 103030), (125462, 3574), (125883, 8034), (27153, 43959), (426926, 43463), (757804, 57204), (939245, 94859), (218221, 104653), (877426, 47413), (58135, 50341), (1200961, 43552), (1092996, 8603), (390353, 20), (1092996, 60281), (1201295, 95978), (261279, 601), (399035, 47498), (721138, 4121), (426926, 47677), (58135, 56060), (82397, 42695), (646087, 2588), (58135, 48597), (365071, 43813), (1201295, 2205), (365071, 60257), (939245, 96390), (281883, 9945), (125462, 43951), (218221, 3538), (939245, 55450), (956669, 54978), (757804, 48828), (939245, 6697), (58135, 96195), (279452, 99873), (281883, 8080), (757804, 3687), (1073342, 60237), (218221, 43552), (652570, 96593), (652570, 50284), (165618, 51476), (693120, 47742), (1200961, 49405), (771431, 100290), (365071, 9760)}\n"
     ]
    }
   ],
   "source": [
    "new_purchases = purchases_updated - purchases\n",
    "print(new_purchases)"
   ]
  },
  {
   "cell_type": "markdown",
   "id": "63e6da16",
   "metadata": {},
   "source": [
    "### Esercizio 8: Caricamento e analisi dati nuovi acquisti\n",
    "\n",
    "- **(8a)** Costruire un dizionario `new_purchases_by_user` simile a `purchases_by_user` creato in precedenza, con i nuovi acquisti raggruppati per utente\n",
    "- **(8b)** Individuare il numero di nuovi acquisti massimo e quello medio per ogni utente"
   ]
  },
  {
   "cell_type": "code",
   "execution_count": 63,
   "id": "df20cebb",
   "metadata": {},
   "outputs": [],
   "source": [
    "new_purchases_by_user = {}\n",
    "\n",
    "for uid, iid in new_purchases:\n",
    "    new_purchases_by_user.setdefault(uid, set()).add(iid)"
   ]
  },
  {
   "cell_type": "code",
   "execution_count": 66,
   "id": "c0c76d6a",
   "metadata": {},
   "outputs": [
    {
     "name": "stdout",
     "output_type": "stream",
     "text": [
      "32.98314606741573\n"
     ]
    }
   ],
   "source": [
    "print(len(new_purchases) / len(users))"
   ]
  },
  {
   "cell_type": "markdown",
   "id": "fe42178f",
   "metadata": {
    "slideshow": {
     "slide_type": "slide"
    }
   },
   "source": [
    "### Quali nuovi acquisti sono stati suggeriti?\n",
    "\n",
    "- Abbiamo ora i dizionari\n",
    "  - `suggestions_by_user` con gli acquisti _suggeriti_\n",
    "  - `new_purchases_by_user` con i nuovi acquisti _effettivi_\n",
    "- Da questi possiamo individuare quali sono i suggerimenti **validi**, quelli a cui dopo l'analisi è corrisposto un acquisto\n",
    "- Consideriamo un utente _soddisfatto_ se ha ricevuto **almeno un suggerimento valido**\n",
    "- Individuiamo l'insieme degli utenti soddisfatti individuando quelli dove l'intersezione tra suggerimenti e nuovi acquisti non è vuota\n",
    "  - usando un insieme (o altra collezione) in `if`, otteniamo `True` se e solo se l'insieme non è vuoto\n",
    "  - dato che alcuni utenti non sono presenti come chiavi in `new_purchases_by_user`, usiamo il metodo `d.get(k, v)` per restituire un valore default `v` se `d[k]` non esiste"
   ]
  },
  {
   "cell_type": "code",
   "execution_count": 67,
   "id": "332cdfaa",
   "metadata": {},
   "outputs": [],
   "source": [
    "satisfied_users = {uid for uid in users.keys()\n",
    "                   if suggestions_by_user[uid] & new_purchases_by_user.get(uid, set())}"
   ]
  },
  {
   "cell_type": "markdown",
   "id": "cc3b885f",
   "metadata": {
    "slideshow": {
     "slide_type": "slide"
    }
   },
   "source": [
    "- Quanti sono gli utenti soddisfatti?"
   ]
  },
  {
   "cell_type": "code",
   "execution_count": 68,
   "id": "31c4339e",
   "metadata": {},
   "outputs": [
    {
     "data": {
      "text/plain": [
       "62"
      ]
     },
     "execution_count": 68,
     "metadata": {},
     "output_type": "execute_result"
    }
   ],
   "source": [
    "len(satisfied_users)"
   ]
  },
  {
   "cell_type": "markdown",
   "id": "67eec3aa",
   "metadata": {},
   "source": [
    "- Quanti sono come percentuale rispetto al totale degli utenti analizzati?"
   ]
  },
  {
   "cell_type": "code",
   "execution_count": 69,
   "id": "6575f8e7",
   "metadata": {},
   "outputs": [
    {
     "data": {
      "text/plain": [
       "0.34831460674157305"
      ]
     },
     "execution_count": 69,
     "metadata": {},
     "output_type": "execute_result"
    }
   ],
   "source": [
    "len(satisfied_users) / len(users)"
   ]
  },
  {
   "cell_type": "markdown",
   "id": "5e30a14d",
   "metadata": {},
   "source": [
    "- Abbiamo quindi suggerito **almeno un prodotto valido** per circa **un terzo degli utenti**"
   ]
  },
  {
   "cell_type": "markdown",
   "id": "457647a8",
   "metadata": {
    "slideshow": {
     "slide_type": "slide"
    }
   },
   "source": [
    "## Sviluppi successivi\n",
    "\n",
    "- Abbiamo quì visto come usare le strutture dati e le funzioni standard di Python per un compito pratico\n",
    "- Nel prossimo laboratorio vedremo come ottenere lo stesso risultato tramite **operazioni tra matrici e algebra lineare**"
   ]
  },
  {
   "cell_type": "markdown",
   "id": "c78b87d2",
   "metadata": {
    "slideshow": {
     "slide_type": "slide"
    }
   },
   "source": [
    "## Esercizio avanzato: Confronto con una selezione casuale di prodotti\n",
    "\n",
    "_(si propone come esercizio da svolgere opzionalmente dopo la lezione)_\n",
    "\n",
    "- Per valutare quanto il risultato ottenuto sia buono, possiamo misurare cosa otterremmo **suggerendo _N_ prodotti a caso** a ciascun utente\n",
    "- Con questa procedura, si verifica che si otterrebbe una percentuale di clienti soddisfatti intorno al **13%**, contro il **35%** ottenuto sopra\n",
    "- Per generare numeri casuali, usiamo il modulo `random` di Python"
   ]
  },
  {
   "cell_type": "code",
   "execution_count": 67,
   "id": "2c157b0f",
   "metadata": {},
   "outputs": [],
   "source": [
    "import random"
   ]
  },
  {
   "cell_type": "markdown",
   "id": "6e335813",
   "metadata": {},
   "source": [
    "- Per ottenere risultati riproducibili, impostiamo un valore fisso come seed"
   ]
  },
  {
   "cell_type": "code",
   "execution_count": 68,
   "id": "225d0ded",
   "metadata": {},
   "outputs": [],
   "source": [
    "random.seed(1234567)"
   ]
  },
  {
   "cell_type": "markdown",
   "id": "c21f77b5",
   "metadata": {
    "slideshow": {
     "slide_type": "slide"
    }
   },
   "source": [
    "- **1)** creare una funzione `suggest_random` che, dato un ID utente, restituisca una lista di _N_ ID prodotti casuali tra quelli che non risultano da lui acquistati nel dataset del 2000\n",
    "  - creare una lista con gli ID dei prodotti non acquistati da `uid`, ovvero le chiavi di `interests_by_user[uid]`\n",
    "  - usare la funzione `sample(lista, k)` del modulo `random` per selezionare una lista di k elementi casuali dalla lista\n",
    "  - convertire tale lista in un `set` per compatibilità con i passaggi successivi"
   ]
  },
  {
   "cell_type": "code",
   "execution_count": 70,
   "id": "5d602c17",
   "metadata": {},
   "outputs": [],
   "source": [
    "def suggest_random(uid):\n",
    "    ..."
   ]
  },
  {
   "cell_type": "markdown",
   "id": "b7ac22a6",
   "metadata": {},
   "source": [
    "- **2)** usare la funzione per creare un dizionario `random_suggestions_by_user` che associ ad ogni utente i suoi suggerimenti casuali\n",
    "  - come riferimento si usi la creazione del dizionario `suggestions_by_user` sopra"
   ]
  },
  {
   "cell_type": "markdown",
   "id": "205909fe",
   "metadata": {
    "slideshow": {
     "slide_type": "slide"
    }
   },
   "source": [
    "- **3)** creare un insieme `randomly_satisfied_users` con gli ID degli utenti per cui almeno un prodotto tra i suggerimenti casuali è stato acquistato in seguito\n",
    "  - usare `satisfied_users` come riferimento"
   ]
  },
  {
   "cell_type": "markdown",
   "id": "ae2f10bb",
   "metadata": {},
   "source": [
    "- **4)** calcolare la percentuale di utenti in `randomly_satisfied_users` rispetto al totale"
   ]
  },
  {
   "cell_type": "markdown",
   "id": "96b5dda8",
   "metadata": {},
   "source": [
    "- **Extra.** Questa percentuale può cambiare variando il valore `seed` in alto. Rieseguire i calcoli sopra con 2-3 seed differenti, quindi calcolare la percentuale media su 1.000 prove con seed diversi."
   ]
  }
 ],
 "metadata": {
  "kernelspec": {
   "display_name": "Python 3",
   "language": "python",
   "name": "python3"
  },
  "language_info": {
   "codemirror_mode": {
    "name": "ipython",
    "version": 3
   },
   "file_extension": ".py",
   "mimetype": "text/x-python",
   "name": "python",
   "nbconvert_exporter": "python",
   "pygments_lexer": "ipython3",
   "version": "3.11.2"
  }
 },
 "nbformat": 4,
 "nbformat_minor": 5
}
